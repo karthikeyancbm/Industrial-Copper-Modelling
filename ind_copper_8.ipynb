{
 "cells": [
  {
   "cell_type": "code",
   "execution_count": 1,
   "metadata": {},
   "outputs": [],
   "source": [
    "import pandas as pd\n",
    "import warnings\n",
    "warnings.filterwarnings(\"ignore\")\n",
    "from datetime import datetime, timedelta\n",
    "import numpy as np\n",
    "import matplotlib.pyplot as plt\n",
    "import seaborn as sns\n",
    "from sklearn.linear_model import LogisticRegression\n",
    "from imblearn.over_sampling import RandomOverSampler\n",
    "from imblearn.over_sampling import SMOTE\n",
    "from sklearn.model_selection import train_test_split\n",
    "from sklearn.metrics import accuracy_score,precision_score,recall_score,f1_score,classification_report\n",
    "from sklearn.neighbors import KNeighborsClassifier\n",
    "from sklearn.ensemble import RandomForestClassifier,AdaBoostClassifier,GradientBoostingClassifier\n",
    "from sklearn.svm import SVC\n",
    "from sklearn.tree import DecisionTreeClassifier\n",
    "from sklearn.model_selection import GridSearchCV\n",
    "from sklearn.preprocessing import LabelEncoder\n",
    "import textwrap\n",
    "import re\n",
    "from scipy.stats import skew\n",
    "from sklearn.linear_model import LinearRegression\n",
    "from sklearn.metrics import mean_squared_error\n",
    "from sklearn.linear_model import Lasso\n",
    "from sklearn.linear_model import Ridge\n",
    "from sklearn.decomposition import PCA\n",
    "from sklearn.model_selection import cross_val_score, KFold\n",
    "from sklearn.model_selection import cross_validate, KFold\n",
    "import pickle\n",
    "from sklearn.ensemble import RandomForestRegressor\n",
    "import dask.dataframe as dd"
   ]
  },
  {
   "cell_type": "code",
   "execution_count": 3,
   "metadata": {},
   "outputs": [
    {
     "data": {
      "text/html": [
       "<div>\n",
       "<style scoped>\n",
       "    .dataframe tbody tr th:only-of-type {\n",
       "        vertical-align: middle;\n",
       "    }\n",
       "\n",
       "    .dataframe tbody tr th {\n",
       "        vertical-align: top;\n",
       "    }\n",
       "\n",
       "    .dataframe thead th {\n",
       "        text-align: right;\n",
       "    }\n",
       "</style>\n",
       "<table border=\"1\" class=\"dataframe\">\n",
       "  <thead>\n",
       "    <tr style=\"text-align: right;\">\n",
       "      <th></th>\n",
       "      <th>id</th>\n",
       "      <th>item_date</th>\n",
       "      <th>quantity tons</th>\n",
       "      <th>customer</th>\n",
       "      <th>country</th>\n",
       "      <th>status</th>\n",
       "      <th>item type</th>\n",
       "      <th>application</th>\n",
       "      <th>thickness</th>\n",
       "      <th>width</th>\n",
       "      <th>material_ref</th>\n",
       "      <th>product_ref</th>\n",
       "      <th>delivery date</th>\n",
       "      <th>selling_price</th>\n",
       "    </tr>\n",
       "  </thead>\n",
       "  <tbody>\n",
       "    <tr>\n",
       "      <th>0</th>\n",
       "      <td>EC06F063-9DF0-440C-8764-0B0C05A4F6AE</td>\n",
       "      <td>20210401.0</td>\n",
       "      <td>54.151139</td>\n",
       "      <td>30156308.0</td>\n",
       "      <td>28.0</td>\n",
       "      <td>Won</td>\n",
       "      <td>W</td>\n",
       "      <td>10.0</td>\n",
       "      <td>2.00</td>\n",
       "      <td>1500.0</td>\n",
       "      <td>DEQ1 S460MC</td>\n",
       "      <td>1670798778</td>\n",
       "      <td>20210701.0</td>\n",
       "      <td>854.00</td>\n",
       "    </tr>\n",
       "    <tr>\n",
       "      <th>1</th>\n",
       "      <td>4E5F4B3D-DDDF-499D-AFDE-A3227EC49425</td>\n",
       "      <td>20210401.0</td>\n",
       "      <td>768.024839</td>\n",
       "      <td>30202938.0</td>\n",
       "      <td>25.0</td>\n",
       "      <td>Won</td>\n",
       "      <td>W</td>\n",
       "      <td>41.0</td>\n",
       "      <td>0.80</td>\n",
       "      <td>1210.0</td>\n",
       "      <td>0000000000000000000000000000000000104991</td>\n",
       "      <td>1668701718</td>\n",
       "      <td>20210401.0</td>\n",
       "      <td>1047.00</td>\n",
       "    </tr>\n",
       "    <tr>\n",
       "      <th>2</th>\n",
       "      <td>E140FF1B-2407-4C02-A0DD-780A093B1158</td>\n",
       "      <td>20210401.0</td>\n",
       "      <td>386.127949</td>\n",
       "      <td>30153963.0</td>\n",
       "      <td>30.0</td>\n",
       "      <td>Won</td>\n",
       "      <td>WI</td>\n",
       "      <td>28.0</td>\n",
       "      <td>0.38</td>\n",
       "      <td>952.0</td>\n",
       "      <td>S0380700</td>\n",
       "      <td>628377</td>\n",
       "      <td>20210101.0</td>\n",
       "      <td>644.33</td>\n",
       "    </tr>\n",
       "    <tr>\n",
       "      <th>3</th>\n",
       "      <td>F8D507A0-9C62-4EFE-831E-33E1DA53BB50</td>\n",
       "      <td>20210401.0</td>\n",
       "      <td>202.411065</td>\n",
       "      <td>30349574.0</td>\n",
       "      <td>32.0</td>\n",
       "      <td>Won</td>\n",
       "      <td>S</td>\n",
       "      <td>59.0</td>\n",
       "      <td>2.30</td>\n",
       "      <td>1317.0</td>\n",
       "      <td>DX51D+ZM310MAO 2.3X1317</td>\n",
       "      <td>1668701718</td>\n",
       "      <td>20210101.0</td>\n",
       "      <td>768.00</td>\n",
       "    </tr>\n",
       "    <tr>\n",
       "      <th>4</th>\n",
       "      <td>4E1C4E78-152B-430A-8094-ADD889C9D0AD</td>\n",
       "      <td>20210401.0</td>\n",
       "      <td>785.526262</td>\n",
       "      <td>30211560.0</td>\n",
       "      <td>28.0</td>\n",
       "      <td>Won</td>\n",
       "      <td>W</td>\n",
       "      <td>10.0</td>\n",
       "      <td>4.00</td>\n",
       "      <td>2000.0</td>\n",
       "      <td>2_S275JR+AR-CL1</td>\n",
       "      <td>640665</td>\n",
       "      <td>20210301.0</td>\n",
       "      <td>577.00</td>\n",
       "    </tr>\n",
       "  </tbody>\n",
       "</table>\n",
       "</div>"
      ],
      "text/plain": [
       "                                     id   item_date quantity tons    customer  \\\n",
       "0  EC06F063-9DF0-440C-8764-0B0C05A4F6AE  20210401.0     54.151139  30156308.0   \n",
       "1  4E5F4B3D-DDDF-499D-AFDE-A3227EC49425  20210401.0    768.024839  30202938.0   \n",
       "2  E140FF1B-2407-4C02-A0DD-780A093B1158  20210401.0    386.127949  30153963.0   \n",
       "3  F8D507A0-9C62-4EFE-831E-33E1DA53BB50  20210401.0    202.411065  30349574.0   \n",
       "4  4E1C4E78-152B-430A-8094-ADD889C9D0AD  20210401.0    785.526262  30211560.0   \n",
       "\n",
       "   country status item type  application  thickness   width  \\\n",
       "0     28.0    Won         W         10.0       2.00  1500.0   \n",
       "1     25.0    Won         W         41.0       0.80  1210.0   \n",
       "2     30.0    Won        WI         28.0       0.38   952.0   \n",
       "3     32.0    Won         S         59.0       2.30  1317.0   \n",
       "4     28.0    Won         W         10.0       4.00  2000.0   \n",
       "\n",
       "                               material_ref  product_ref  delivery date  \\\n",
       "0                               DEQ1 S460MC   1670798778     20210701.0   \n",
       "1  0000000000000000000000000000000000104991   1668701718     20210401.0   \n",
       "2                                  S0380700       628377     20210101.0   \n",
       "3                   DX51D+ZM310MAO 2.3X1317   1668701718     20210101.0   \n",
       "4                           2_S275JR+AR-CL1       640665     20210301.0   \n",
       "\n",
       "   selling_price  \n",
       "0         854.00  \n",
       "1        1047.00  \n",
       "2         644.33  \n",
       "3         768.00  \n",
       "4         577.00  "
      ]
     },
     "execution_count": 3,
     "metadata": {},
     "output_type": "execute_result"
    }
   ],
   "source": [
    "df=pd.read_excel(r\"C:\\Users\\ASUS\\Documents\\GUVI ZEN CLASSES\\MAINT BOOT\\Industrial Copper Modeling\\Copper_Set.xlsx\")\n",
    "df.head()"
   ]
  },
  {
   "cell_type": "markdown",
   "metadata": {},
   "source": [
    "# Data Cleaning & Pre Processing :"
   ]
  },
  {
   "cell_type": "code",
   "execution_count": 346,
   "metadata": {},
   "outputs": [
    {
     "data": {
      "text/plain": [
       "2543422"
      ]
     },
     "execution_count": 346,
     "metadata": {},
     "output_type": "execute_result"
    }
   ],
   "source": [
    "df.size"
   ]
  },
  {
   "cell_type": "code",
   "execution_count": 347,
   "metadata": {},
   "outputs": [
    {
     "data": {
      "text/plain": [
       "(181673, 14)"
      ]
     },
     "execution_count": 347,
     "metadata": {},
     "output_type": "execute_result"
    }
   ],
   "source": [
    "df.shape"
   ]
  },
  {
   "cell_type": "code",
   "execution_count": 348,
   "metadata": {},
   "outputs": [
    {
     "name": "stdout",
     "output_type": "stream",
     "text": [
      "<class 'pandas.core.frame.DataFrame'>\n",
      "RangeIndex: 181673 entries, 0 to 181672\n",
      "Data columns (total 14 columns):\n",
      " #   Column         Non-Null Count   Dtype  \n",
      "---  ------         --------------   -----  \n",
      " 0   id             181671 non-null  object \n",
      " 1   item_date      181672 non-null  float64\n",
      " 2   quantity tons  181673 non-null  object \n",
      " 3   customer       181672 non-null  float64\n",
      " 4   country        181645 non-null  float64\n",
      " 5   status         181671 non-null  object \n",
      " 6   item type      181673 non-null  object \n",
      " 7   application    181649 non-null  float64\n",
      " 8   thickness      181672 non-null  float64\n",
      " 9   width          181673 non-null  float64\n",
      " 10  material_ref   103754 non-null  object \n",
      " 11  product_ref    181673 non-null  int64  \n",
      " 12  delivery date  181672 non-null  float64\n",
      " 13  selling_price  181672 non-null  float64\n",
      "dtypes: float64(8), int64(1), object(5)\n",
      "memory usage: 19.4+ MB\n"
     ]
    }
   ],
   "source": [
    "df.info()"
   ]
  },
  {
   "cell_type": "code",
   "execution_count": 349,
   "metadata": {},
   "outputs": [
    {
     "name": "stdout",
     "output_type": "stream",
     "text": [
      "id : 181672\n",
      "item_date : 253\n",
      "quantity tons : 181673\n",
      "customer : 1170\n",
      "country : 18\n",
      "status : 10\n",
      "item type : 7\n",
      "application : 31\n",
      "thickness : 595\n",
      "width : 1386\n",
      "material_ref : 16564\n",
      "product_ref : 33\n",
      "delivery date : 29\n",
      "selling_price : 9796\n"
     ]
    }
   ],
   "source": [
    "for col in df.columns:\n",
    "    print(f\"{col} : {len(df[col].unique())}\")"
   ]
  },
  {
   "cell_type": "code",
   "execution_count": 350,
   "metadata": {},
   "outputs": [
    {
     "name": "stdout",
     "output_type": "stream",
     "text": [
      "id\n",
      "EC06F063-9DF0-440C-8764-0B0C05A4F6AE    1\n",
      "65203CB6-89D8-4BE3-ACBE-E5EDA0F5ACDC    1\n",
      "3020E716-130E-4456-BD0A-57C4A519BE58    1\n",
      "588AE510-4CB5-4A28-97D7-7F7A1E0BD0DD    1\n",
      "15300D43-0ED4-49B2-B2CC-759D03E3EACC    1\n",
      "                                       ..\n",
      "679C1F30-3ABA-49F7-8B01-F50FEDD6D916    1\n",
      "ACDD75A4-85DD-4E44-89E8-0E55CA952F85    1\n",
      "40F88F5B-6C88-4896-81D0-DEE88A9F1C0A    1\n",
      "3F6C6143-0A6D-4C87-B05E-1FC6973D173A    1\n",
      "AD0CA853-AE3C-4B2F-9FBB-8B0B965F84BC    1\n",
      "Name: count, Length: 181671, dtype: int64\n",
      "item_date\n",
      "20201202.0    2779\n",
      "20210304.0    2088\n",
      "20201124.0    1991\n",
      "20210115.0    1928\n",
      "20200929.0    1870\n",
      "              ... \n",
      "20201219.0       1\n",
      "20210313.0       1\n",
      "20191919.0       1\n",
      "20200829.0       1\n",
      "19950000.0       1\n",
      "Name: count, Length: 252, dtype: int64\n",
      "quantity tons\n",
      "54.151139     1\n",
      "75.110726     1\n",
      "32.431644     1\n",
      "31.925345     1\n",
      "132.311385    1\n",
      "             ..\n",
      "13.869590     1\n",
      "2.738536      1\n",
      "233.264013    1\n",
      "11.940179     1\n",
      "406.686538    1\n",
      "Name: count, Length: 181673, dtype: int64\n",
      "customer\n",
      "30157111.0    4988\n",
      "30161088.0    3733\n",
      "30201846.0    3152\n",
      "30165529.0    2728\n",
      "30202938.0    2570\n",
      "              ... \n",
      "30271383.0       1\n",
      "30356502.0       1\n",
      "30357481.0       1\n",
      "30156053.0       1\n",
      "30271291.0       1\n",
      "Name: count, Length: 1169, dtype: int64\n",
      "country\n",
      "78.0     32084\n",
      "26.0     27516\n",
      "25.0     23362\n",
      "27.0     21511\n",
      "32.0     18658\n",
      "28.0     15824\n",
      "84.0     12776\n",
      "77.0      9714\n",
      "30.0      8702\n",
      "39.0      3731\n",
      "79.0      2742\n",
      "38.0      1712\n",
      "40.0      1683\n",
      "80.0       819\n",
      "113.0      714\n",
      "89.0        92\n",
      "107.0        5\n",
      "Name: count, dtype: int64\n",
      "status\n",
      "Won                116010\n",
      "Lost                34438\n",
      "Not lost for AM     19573\n",
      "Revised              4276\n",
      "To be approved       4170\n",
      "Draft                3140\n",
      "Offered                53\n",
      "Offerable              10\n",
      "Wonderful               1\n",
      "Name: count, dtype: int64\n",
      "item type\n",
      "W         105615\n",
      "S          69236\n",
      "PL          5660\n",
      "Others       610\n",
      "WI           524\n",
      "IPL           27\n",
      "SLAWR          1\n",
      "Name: count, dtype: int64\n",
      "application\n",
      "10.0    77544\n",
      "41.0    46261\n",
      "15.0    20772\n",
      "59.0     8927\n",
      "42.0     5858\n",
      "56.0     4846\n",
      "29.0     1937\n",
      "27.0     1784\n",
      "26.0     1650\n",
      "28.0     1591\n",
      "40.0     1576\n",
      "25.0     1498\n",
      "79.0     1422\n",
      "22.0     1023\n",
      "20.0      768\n",
      "66.0      718\n",
      "3.0       657\n",
      "38.0      511\n",
      "58.0      447\n",
      "4.0       286\n",
      "39.0      267\n",
      "65.0      247\n",
      "67.0      221\n",
      "68.0      181\n",
      "99.0      146\n",
      "19.0      143\n",
      "69.0      122\n",
      "5.0       110\n",
      "70.0      102\n",
      "2.0        34\n",
      "Name: count, dtype: int64\n",
      "thickness\n",
      "2.00     13468\n",
      "3.00     13207\n",
      "0.50     12247\n",
      "1.50     11731\n",
      "1.00      9474\n",
      "         ...  \n",
      "7.06         1\n",
      "9.39         1\n",
      "15.66        1\n",
      "2.28         1\n",
      "15.60        1\n",
      "Name: count, Length: 594, dtype: int64\n",
      "width\n",
      "1250.0    39149\n",
      "1500.0    32681\n",
      "1000.0    12271\n",
      "2000.0     7613\n",
      "1220.0     4785\n",
      "          ...  \n",
      "881.0         1\n",
      "656.0         1\n",
      "406.0         1\n",
      "234.0         1\n",
      "1786.0        1\n",
      "Name: count, Length: 1386, dtype: int64\n",
      "material_ref\n",
      "DX51D+Z                                     922\n",
      "G9010                                       856\n",
      "DC01 RED.FLAT KUCHNIA EKO 2.2               777\n",
      "DC01                                        725\n",
      "G9006                                       671\n",
      "                                           ... \n",
      "0000000000000000000000000000000003050080      1\n",
      "0000000000000000000000000000000004001568      1\n",
      "0000000000000000000000000000000003016460      1\n",
      "0000000000000000000000000000000003016459      1\n",
      "202006170005.IO.1.1                           1\n",
      "Name: count, Length: 16563, dtype: int64\n",
      "product_ref\n",
      "611993        45727\n",
      "164141591     28785\n",
      "640665        27375\n",
      "1670798778    18916\n",
      "628377        18574\n",
      "1668701718    15284\n",
      "640405         9715\n",
      "1671863738     5162\n",
      "1332077137     4561\n",
      "1693867550     1825\n",
      "1668701376     1216\n",
      "1671876026      823\n",
      "628117          775\n",
      "164337175       653\n",
      "1668701698      374\n",
      "1693867563      293\n",
      "1282007633      281\n",
      "1721130331      257\n",
      "1665572374      202\n",
      "628112          177\n",
      "611728          148\n",
      "1690738206      147\n",
      "1722207579      125\n",
      "640400           83\n",
      "1668701725       56\n",
      "164336407        49\n",
      "611733           45\n",
      "1690738219       19\n",
      "1665584320       12\n",
      "1665572032       10\n",
      "1665584642        2\n",
      "929423819         1\n",
      "1665584662        1\n",
      "Name: count, dtype: int64\n",
      "delivery date\n",
      "20210101.0    33033\n",
      "20210401.0    31959\n",
      "20201001.0    25388\n",
      "20210701.0    21080\n",
      "20210501.0     9118\n",
      "20210301.0     8848\n",
      "20200701.0     7706\n",
      "20201201.0     7532\n",
      "20210201.0     7295\n",
      "20201101.0     7179\n",
      "20210601.0     7005\n",
      "20200901.0     6131\n",
      "20200801.0     4866\n",
      "20210801.0     3748\n",
      "20210901.0      332\n",
      "20211001.0      191\n",
      "20200101.0      129\n",
      "20200401.0       57\n",
      "20200601.0       33\n",
      "20200501.0       15\n",
      "20211201.0       12\n",
      "20220101.0        6\n",
      "20190701.0        3\n",
      "20211101.0        2\n",
      "20190401.0        1\n",
      "30310101.0        1\n",
      "20212222.0        1\n",
      "20191001.0        1\n",
      "Name: count, dtype: int64\n",
      "selling_price\n",
      "832.00    400\n",
      "816.00    389\n",
      "821.00    387\n",
      "811.00    381\n",
      "812.00    379\n",
      "         ... \n",
      "788.99      1\n",
      "819.06      1\n",
      "830.45      1\n",
      "696.47      1\n",
      "615.81      1\n",
      "Name: count, Length: 9795, dtype: int64\n"
     ]
    }
   ],
   "source": [
    "for col in df.columns:\n",
    "    print(df[col].value_counts())"
   ]
  },
  {
   "cell_type": "code",
   "execution_count": 351,
   "metadata": {},
   "outputs": [
    {
     "data": {
      "text/plain": [
       "array(['DEQ1 S460MC', '0000000000000000000000000000000000104991',\n",
       "       'S0380700', ..., 'MAS65550', '4.11043_1060X5_BRE',\n",
       "       '202006170005.IO.1.1'], dtype=object)"
      ]
     },
     "execution_count": 351,
     "metadata": {},
     "output_type": "execute_result"
    }
   ],
   "source": [
    "df['material_ref'].unique()"
   ]
  },
  {
   "cell_type": "code",
   "execution_count": 352,
   "metadata": {},
   "outputs": [],
   "source": [
    "df['material_ref'] = df['material_ref'].apply(lambda x: np.nan if str(x).startswith('0000') else x)"
   ]
  },
  {
   "cell_type": "code",
   "execution_count": 353,
   "metadata": {},
   "outputs": [
    {
     "data": {
      "text/plain": [
       "array(['DEQ1 S460MC', nan, 'S0380700', ..., 'MAS65550',\n",
       "       '4.11043_1060X5_BRE', '202006170005.IO.1.1'], dtype=object)"
      ]
     },
     "execution_count": 353,
     "metadata": {},
     "output_type": "execute_result"
    }
   ],
   "source": [
    "df['material_ref'].unique()"
   ]
  },
  {
   "cell_type": "code",
   "execution_count": 354,
   "metadata": {},
   "outputs": [
    {
     "data": {
      "text/html": [
       "<div>\n",
       "<style scoped>\n",
       "    .dataframe tbody tr th:only-of-type {\n",
       "        vertical-align: middle;\n",
       "    }\n",
       "\n",
       "    .dataframe tbody tr th {\n",
       "        vertical-align: top;\n",
       "    }\n",
       "\n",
       "    .dataframe thead th {\n",
       "        text-align: right;\n",
       "    }\n",
       "</style>\n",
       "<table border=\"1\" class=\"dataframe\">\n",
       "  <thead>\n",
       "    <tr style=\"text-align: right;\">\n",
       "      <th></th>\n",
       "      <th>id</th>\n",
       "      <th>item_date</th>\n",
       "      <th>quantity tons</th>\n",
       "      <th>customer</th>\n",
       "      <th>country</th>\n",
       "      <th>status</th>\n",
       "      <th>item type</th>\n",
       "      <th>application</th>\n",
       "      <th>thickness</th>\n",
       "      <th>width</th>\n",
       "      <th>material_ref</th>\n",
       "      <th>product_ref</th>\n",
       "      <th>delivery date</th>\n",
       "      <th>selling_price</th>\n",
       "    </tr>\n",
       "  </thead>\n",
       "  <tbody>\n",
       "    <tr>\n",
       "      <th>0</th>\n",
       "      <td>EC06F063-9DF0-440C-8764-0B0C05A4F6AE</td>\n",
       "      <td>20210401.0</td>\n",
       "      <td>54.151139</td>\n",
       "      <td>30156308.0</td>\n",
       "      <td>28.0</td>\n",
       "      <td>Won</td>\n",
       "      <td>W</td>\n",
       "      <td>10.0</td>\n",
       "      <td>2.0</td>\n",
       "      <td>1500.0</td>\n",
       "      <td>DEQ1 S460MC</td>\n",
       "      <td>1670798778</td>\n",
       "      <td>20210701.0</td>\n",
       "      <td>854.0</td>\n",
       "    </tr>\n",
       "    <tr>\n",
       "      <th>1</th>\n",
       "      <td>4E5F4B3D-DDDF-499D-AFDE-A3227EC49425</td>\n",
       "      <td>20210401.0</td>\n",
       "      <td>768.024839</td>\n",
       "      <td>30202938.0</td>\n",
       "      <td>25.0</td>\n",
       "      <td>Won</td>\n",
       "      <td>W</td>\n",
       "      <td>41.0</td>\n",
       "      <td>0.8</td>\n",
       "      <td>1210.0</td>\n",
       "      <td>NaN</td>\n",
       "      <td>1668701718</td>\n",
       "      <td>20210401.0</td>\n",
       "      <td>1047.0</td>\n",
       "    </tr>\n",
       "  </tbody>\n",
       "</table>\n",
       "</div>"
      ],
      "text/plain": [
       "                                     id   item_date quantity tons    customer  \\\n",
       "0  EC06F063-9DF0-440C-8764-0B0C05A4F6AE  20210401.0     54.151139  30156308.0   \n",
       "1  4E5F4B3D-DDDF-499D-AFDE-A3227EC49425  20210401.0    768.024839  30202938.0   \n",
       "\n",
       "   country status item type  application  thickness   width material_ref  \\\n",
       "0     28.0    Won         W         10.0        2.0  1500.0  DEQ1 S460MC   \n",
       "1     25.0    Won         W         41.0        0.8  1210.0          NaN   \n",
       "\n",
       "   product_ref  delivery date  selling_price  \n",
       "0   1670798778     20210701.0          854.0  \n",
       "1   1668701718     20210401.0         1047.0  "
      ]
     },
     "execution_count": 354,
     "metadata": {},
     "output_type": "execute_result"
    }
   ],
   "source": [
    "df.head(2)"
   ]
  },
  {
   "cell_type": "code",
   "execution_count": 355,
   "metadata": {},
   "outputs": [],
   "source": [
    "df.drop(columns=['id','material_ref'],axis=1,inplace=True)"
   ]
  },
  {
   "cell_type": "code",
   "execution_count": 356,
   "metadata": {},
   "outputs": [
    {
     "data": {
      "text/html": [
       "<div>\n",
       "<style scoped>\n",
       "    .dataframe tbody tr th:only-of-type {\n",
       "        vertical-align: middle;\n",
       "    }\n",
       "\n",
       "    .dataframe tbody tr th {\n",
       "        vertical-align: top;\n",
       "    }\n",
       "\n",
       "    .dataframe thead th {\n",
       "        text-align: right;\n",
       "    }\n",
       "</style>\n",
       "<table border=\"1\" class=\"dataframe\">\n",
       "  <thead>\n",
       "    <tr style=\"text-align: right;\">\n",
       "      <th></th>\n",
       "      <th>item_date</th>\n",
       "      <th>quantity tons</th>\n",
       "      <th>customer</th>\n",
       "      <th>country</th>\n",
       "      <th>status</th>\n",
       "      <th>item type</th>\n",
       "      <th>application</th>\n",
       "      <th>thickness</th>\n",
       "      <th>width</th>\n",
       "      <th>product_ref</th>\n",
       "      <th>delivery date</th>\n",
       "      <th>selling_price</th>\n",
       "    </tr>\n",
       "  </thead>\n",
       "  <tbody>\n",
       "    <tr>\n",
       "      <th>0</th>\n",
       "      <td>20210401.0</td>\n",
       "      <td>54.151139</td>\n",
       "      <td>30156308.0</td>\n",
       "      <td>28.0</td>\n",
       "      <td>Won</td>\n",
       "      <td>W</td>\n",
       "      <td>10.0</td>\n",
       "      <td>2.0</td>\n",
       "      <td>1500.0</td>\n",
       "      <td>1670798778</td>\n",
       "      <td>20210701.0</td>\n",
       "      <td>854.0</td>\n",
       "    </tr>\n",
       "    <tr>\n",
       "      <th>1</th>\n",
       "      <td>20210401.0</td>\n",
       "      <td>768.024839</td>\n",
       "      <td>30202938.0</td>\n",
       "      <td>25.0</td>\n",
       "      <td>Won</td>\n",
       "      <td>W</td>\n",
       "      <td>41.0</td>\n",
       "      <td>0.8</td>\n",
       "      <td>1210.0</td>\n",
       "      <td>1668701718</td>\n",
       "      <td>20210401.0</td>\n",
       "      <td>1047.0</td>\n",
       "    </tr>\n",
       "  </tbody>\n",
       "</table>\n",
       "</div>"
      ],
      "text/plain": [
       "    item_date quantity tons    customer  country status item type  \\\n",
       "0  20210401.0     54.151139  30156308.0     28.0    Won         W   \n",
       "1  20210401.0    768.024839  30202938.0     25.0    Won         W   \n",
       "\n",
       "   application  thickness   width  product_ref  delivery date  selling_price  \n",
       "0         10.0        2.0  1500.0   1670798778     20210701.0          854.0  \n",
       "1         41.0        0.8  1210.0   1668701718     20210401.0         1047.0  "
      ]
     },
     "execution_count": 356,
     "metadata": {},
     "output_type": "execute_result"
    }
   ],
   "source": [
    "df.head(2)"
   ]
  },
  {
   "cell_type": "code",
   "execution_count": 357,
   "metadata": {},
   "outputs": [
    {
     "data": {
      "text/plain": [
       "item_date        float64\n",
       "quantity tons     object\n",
       "customer         float64\n",
       "country          float64\n",
       "status            object\n",
       "item type         object\n",
       "application      float64\n",
       "thickness        float64\n",
       "width            float64\n",
       "product_ref        int64\n",
       "delivery date    float64\n",
       "selling_price    float64\n",
       "dtype: object"
      ]
     },
     "execution_count": 357,
     "metadata": {},
     "output_type": "execute_result"
    }
   ],
   "source": [
    "df.dtypes"
   ]
  },
  {
   "cell_type": "code",
   "execution_count": 358,
   "metadata": {},
   "outputs": [],
   "source": [
    "df.rename(columns={'delivery date':'delivery_date','item type':'item_type','quantity tons':'quantity_tons'},inplace=True)"
   ]
  },
  {
   "cell_type": "code",
   "execution_count": 359,
   "metadata": {},
   "outputs": [
    {
     "data": {
      "text/html": [
       "<div>\n",
       "<style scoped>\n",
       "    .dataframe tbody tr th:only-of-type {\n",
       "        vertical-align: middle;\n",
       "    }\n",
       "\n",
       "    .dataframe tbody tr th {\n",
       "        vertical-align: top;\n",
       "    }\n",
       "\n",
       "    .dataframe thead th {\n",
       "        text-align: right;\n",
       "    }\n",
       "</style>\n",
       "<table border=\"1\" class=\"dataframe\">\n",
       "  <thead>\n",
       "    <tr style=\"text-align: right;\">\n",
       "      <th></th>\n",
       "      <th>item_date</th>\n",
       "      <th>quantity_tons</th>\n",
       "      <th>customer</th>\n",
       "      <th>country</th>\n",
       "      <th>status</th>\n",
       "      <th>item_type</th>\n",
       "      <th>application</th>\n",
       "      <th>thickness</th>\n",
       "      <th>width</th>\n",
       "      <th>product_ref</th>\n",
       "      <th>delivery_date</th>\n",
       "      <th>selling_price</th>\n",
       "    </tr>\n",
       "  </thead>\n",
       "  <tbody>\n",
       "    <tr>\n",
       "      <th>0</th>\n",
       "      <td>20210401.0</td>\n",
       "      <td>54.151139</td>\n",
       "      <td>30156308.0</td>\n",
       "      <td>28.0</td>\n",
       "      <td>Won</td>\n",
       "      <td>W</td>\n",
       "      <td>10.0</td>\n",
       "      <td>2.0</td>\n",
       "      <td>1500.0</td>\n",
       "      <td>1670798778</td>\n",
       "      <td>20210701.0</td>\n",
       "      <td>854.0</td>\n",
       "    </tr>\n",
       "    <tr>\n",
       "      <th>1</th>\n",
       "      <td>20210401.0</td>\n",
       "      <td>768.024839</td>\n",
       "      <td>30202938.0</td>\n",
       "      <td>25.0</td>\n",
       "      <td>Won</td>\n",
       "      <td>W</td>\n",
       "      <td>41.0</td>\n",
       "      <td>0.8</td>\n",
       "      <td>1210.0</td>\n",
       "      <td>1668701718</td>\n",
       "      <td>20210401.0</td>\n",
       "      <td>1047.0</td>\n",
       "    </tr>\n",
       "  </tbody>\n",
       "</table>\n",
       "</div>"
      ],
      "text/plain": [
       "    item_date quantity_tons    customer  country status item_type  \\\n",
       "0  20210401.0     54.151139  30156308.0     28.0    Won         W   \n",
       "1  20210401.0    768.024839  30202938.0     25.0    Won         W   \n",
       "\n",
       "   application  thickness   width  product_ref  delivery_date  selling_price  \n",
       "0         10.0        2.0  1500.0   1670798778     20210701.0          854.0  \n",
       "1         41.0        0.8  1210.0   1668701718     20210401.0         1047.0  "
      ]
     },
     "execution_count": 359,
     "metadata": {},
     "output_type": "execute_result"
    }
   ],
   "source": [
    "df.head(2)"
   ]
  },
  {
   "cell_type": "markdown",
   "metadata": {},
   "source": [
    "## Date Formatting"
   ]
  },
  {
   "cell_type": "code",
   "execution_count": 360,
   "metadata": {},
   "outputs": [],
   "source": [
    "df['item_date'] = pd.to_datetime(df['item_date'],format='%Y%m%d',errors='coerce')\n",
    "df['delivery_date'] = pd.to_datetime(df['delivery_date'],format='%Y%m%d',errors='coerce')"
   ]
  },
  {
   "cell_type": "code",
   "execution_count": 361,
   "metadata": {},
   "outputs": [
    {
     "data": {
      "text/html": [
       "<div>\n",
       "<style scoped>\n",
       "    .dataframe tbody tr th:only-of-type {\n",
       "        vertical-align: middle;\n",
       "    }\n",
       "\n",
       "    .dataframe tbody tr th {\n",
       "        vertical-align: top;\n",
       "    }\n",
       "\n",
       "    .dataframe thead th {\n",
       "        text-align: right;\n",
       "    }\n",
       "</style>\n",
       "<table border=\"1\" class=\"dataframe\">\n",
       "  <thead>\n",
       "    <tr style=\"text-align: right;\">\n",
       "      <th></th>\n",
       "      <th>item_date</th>\n",
       "      <th>quantity_tons</th>\n",
       "      <th>customer</th>\n",
       "      <th>country</th>\n",
       "      <th>status</th>\n",
       "      <th>item_type</th>\n",
       "      <th>application</th>\n",
       "      <th>thickness</th>\n",
       "      <th>width</th>\n",
       "      <th>product_ref</th>\n",
       "      <th>delivery_date</th>\n",
       "      <th>selling_price</th>\n",
       "    </tr>\n",
       "  </thead>\n",
       "  <tbody>\n",
       "    <tr>\n",
       "      <th>0</th>\n",
       "      <td>2021-04-01</td>\n",
       "      <td>54.151139</td>\n",
       "      <td>30156308.0</td>\n",
       "      <td>28.0</td>\n",
       "      <td>Won</td>\n",
       "      <td>W</td>\n",
       "      <td>10.0</td>\n",
       "      <td>2.0</td>\n",
       "      <td>1500.0</td>\n",
       "      <td>1670798778</td>\n",
       "      <td>2021-07-01</td>\n",
       "      <td>854.0</td>\n",
       "    </tr>\n",
       "    <tr>\n",
       "      <th>1</th>\n",
       "      <td>2021-04-01</td>\n",
       "      <td>768.024839</td>\n",
       "      <td>30202938.0</td>\n",
       "      <td>25.0</td>\n",
       "      <td>Won</td>\n",
       "      <td>W</td>\n",
       "      <td>41.0</td>\n",
       "      <td>0.8</td>\n",
       "      <td>1210.0</td>\n",
       "      <td>1668701718</td>\n",
       "      <td>2021-04-01</td>\n",
       "      <td>1047.0</td>\n",
       "    </tr>\n",
       "  </tbody>\n",
       "</table>\n",
       "</div>"
      ],
      "text/plain": [
       "   item_date quantity_tons    customer  country status item_type  application  \\\n",
       "0 2021-04-01     54.151139  30156308.0     28.0    Won         W         10.0   \n",
       "1 2021-04-01    768.024839  30202938.0     25.0    Won         W         41.0   \n",
       "\n",
       "   thickness   width  product_ref delivery_date  selling_price  \n",
       "0        2.0  1500.0   1670798778    2021-07-01          854.0  \n",
       "1        0.8  1210.0   1668701718    2021-04-01         1047.0  "
      ]
     },
     "execution_count": 361,
     "metadata": {},
     "output_type": "execute_result"
    }
   ],
   "source": [
    "df.head(2)"
   ]
  },
  {
   "cell_type": "markdown",
   "metadata": {},
   "source": [
    "## Null Values Checking"
   ]
  },
  {
   "cell_type": "code",
   "execution_count": 362,
   "metadata": {},
   "outputs": [
    {
     "data": {
      "text/plain": [
       "item_date         3\n",
       "quantity_tons     0\n",
       "customer          1\n",
       "country          28\n",
       "status            2\n",
       "item_type         0\n",
       "application      24\n",
       "thickness         1\n",
       "width             0\n",
       "product_ref       0\n",
       "delivery_date     3\n",
       "selling_price     1\n",
       "dtype: int64"
      ]
     },
     "execution_count": 362,
     "metadata": {},
     "output_type": "execute_result"
    }
   ],
   "source": [
    "df.isna().sum()"
   ]
  },
  {
   "cell_type": "markdown",
   "metadata": {},
   "source": [
    "# Null Values Imputation"
   ]
  },
  {
   "cell_type": "code",
   "execution_count": 363,
   "metadata": {},
   "outputs": [],
   "source": [
    "df['item_date'] = df['item_date'].fillna(df['item_date'].mode()[0])\n",
    "df['country'] = df['country'].fillna(df['country'].mean())\n",
    "df['customer'] = df['customer'].fillna(df['customer'].mean())\n",
    "df['status'] = df['status'].fillna(df['status'].mode()[0])\n",
    "df['application'] = df['application'].fillna(df['application'].mean())\n",
    "df['thickness'] = df['thickness'].fillna(df['thickness'].mean())\n",
    "df['delivery_date'] = df['delivery_date'].fillna(df['delivery_date'].mode()[0])\n",
    "df['selling_price'] = df['selling_price'].fillna(df['selling_price'].mode()[0])"
   ]
  },
  {
   "cell_type": "code",
   "execution_count": 364,
   "metadata": {},
   "outputs": [
    {
     "data": {
      "text/plain": [
       "item_date        0\n",
       "quantity_tons    0\n",
       "customer         0\n",
       "country          0\n",
       "status           0\n",
       "item_type        0\n",
       "application      0\n",
       "thickness        0\n",
       "width            0\n",
       "product_ref      0\n",
       "delivery_date    0\n",
       "selling_price    0\n",
       "dtype: int64"
      ]
     },
     "execution_count": 364,
     "metadata": {},
     "output_type": "execute_result"
    }
   ],
   "source": [
    "df.isna().sum()"
   ]
  },
  {
   "cell_type": "markdown",
   "metadata": {},
   "source": [
    "## Data Types Conversion:"
   ]
  },
  {
   "cell_type": "code",
   "execution_count": 365,
   "metadata": {},
   "outputs": [
    {
     "data": {
      "text/plain": [
       "item_date        datetime64[ns]\n",
       "quantity_tons            object\n",
       "customer                float64\n",
       "country                 float64\n",
       "status                   object\n",
       "item_type                object\n",
       "application             float64\n",
       "thickness               float64\n",
       "width                   float64\n",
       "product_ref               int64\n",
       "delivery_date    datetime64[ns]\n",
       "selling_price           float64\n",
       "dtype: object"
      ]
     },
     "execution_count": 365,
     "metadata": {},
     "output_type": "execute_result"
    }
   ],
   "source": [
    "df.dtypes"
   ]
  },
  {
   "cell_type": "code",
   "execution_count": 366,
   "metadata": {},
   "outputs": [
    {
     "data": {
      "text/plain": [
       "array([54.15113861692779, 768.0248392021871, 386.1279489091378, ...,\n",
       "       4.2355935684967845, -2000, 406.68653838450405], dtype=object)"
      ]
     },
     "execution_count": 366,
     "metadata": {},
     "output_type": "execute_result"
    }
   ],
   "source": [
    "df['quantity_tons'].unique()"
   ]
  },
  {
   "cell_type": "code",
   "execution_count": 367,
   "metadata": {},
   "outputs": [],
   "source": [
    "df['quantity_tons'] = pd.to_numeric(df['quantity_tons'],errors='coerce')"
   ]
  },
  {
   "cell_type": "code",
   "execution_count": 368,
   "metadata": {},
   "outputs": [
    {
     "data": {
      "text/plain": [
       "item_date        0\n",
       "quantity_tons    1\n",
       "customer         0\n",
       "country          0\n",
       "status           0\n",
       "item_type        0\n",
       "application      0\n",
       "thickness        0\n",
       "width            0\n",
       "product_ref      0\n",
       "delivery_date    0\n",
       "selling_price    0\n",
       "dtype: int64"
      ]
     },
     "execution_count": 368,
     "metadata": {},
     "output_type": "execute_result"
    }
   ],
   "source": [
    "df.isna().sum()"
   ]
  },
  {
   "cell_type": "code",
   "execution_count": 369,
   "metadata": {},
   "outputs": [],
   "source": [
    "df['quantity_tons'] = df['quantity_tons'].fillna(df['quantity_tons'].mean())"
   ]
  },
  {
   "cell_type": "code",
   "execution_count": 370,
   "metadata": {},
   "outputs": [
    {
     "data": {
      "text/plain": [
       "quantity_tons\n",
       "54.151139     1\n",
       "75.110726     1\n",
       "32.431644     1\n",
       "31.925345     1\n",
       "132.311385    1\n",
       "             ..\n",
       "13.869590     1\n",
       "2.738536      1\n",
       "233.264013    1\n",
       "11.940179     1\n",
       "406.686538    1\n",
       "Name: count, Length: 181673, dtype: int64"
      ]
     },
     "execution_count": 370,
     "metadata": {},
     "output_type": "execute_result"
    }
   ],
   "source": [
    "df['quantity_tons'].value_counts()"
   ]
  },
  {
   "cell_type": "code",
   "execution_count": 371,
   "metadata": {},
   "outputs": [
    {
     "data": {
      "text/plain": [
       "item_date        datetime64[ns]\n",
       "quantity_tons           float64\n",
       "customer                float64\n",
       "country                 float64\n",
       "status                   object\n",
       "item_type                object\n",
       "application             float64\n",
       "thickness               float64\n",
       "width                   float64\n",
       "product_ref               int64\n",
       "delivery_date    datetime64[ns]\n",
       "selling_price           float64\n",
       "dtype: object"
      ]
     },
     "execution_count": 371,
     "metadata": {},
     "output_type": "execute_result"
    }
   ],
   "source": [
    "df.dtypes"
   ]
  },
  {
   "cell_type": "code",
   "execution_count": 372,
   "metadata": {},
   "outputs": [
    {
     "data": {
      "text/html": [
       "<div>\n",
       "<style scoped>\n",
       "    .dataframe tbody tr th:only-of-type {\n",
       "        vertical-align: middle;\n",
       "    }\n",
       "\n",
       "    .dataframe tbody tr th {\n",
       "        vertical-align: top;\n",
       "    }\n",
       "\n",
       "    .dataframe thead th {\n",
       "        text-align: right;\n",
       "    }\n",
       "</style>\n",
       "<table border=\"1\" class=\"dataframe\">\n",
       "  <thead>\n",
       "    <tr style=\"text-align: right;\">\n",
       "      <th></th>\n",
       "      <th>item_date</th>\n",
       "      <th>quantity_tons</th>\n",
       "      <th>customer</th>\n",
       "      <th>country</th>\n",
       "      <th>status</th>\n",
       "      <th>item_type</th>\n",
       "      <th>application</th>\n",
       "      <th>thickness</th>\n",
       "      <th>width</th>\n",
       "      <th>product_ref</th>\n",
       "      <th>delivery_date</th>\n",
       "      <th>selling_price</th>\n",
       "    </tr>\n",
       "  </thead>\n",
       "  <tbody>\n",
       "    <tr>\n",
       "      <th>0</th>\n",
       "      <td>2021-04-01</td>\n",
       "      <td>54.151139</td>\n",
       "      <td>30156308.0</td>\n",
       "      <td>28.0</td>\n",
       "      <td>Won</td>\n",
       "      <td>W</td>\n",
       "      <td>10.0</td>\n",
       "      <td>2.0</td>\n",
       "      <td>1500.0</td>\n",
       "      <td>1670798778</td>\n",
       "      <td>2021-07-01</td>\n",
       "      <td>854.0</td>\n",
       "    </tr>\n",
       "    <tr>\n",
       "      <th>1</th>\n",
       "      <td>2021-04-01</td>\n",
       "      <td>768.024839</td>\n",
       "      <td>30202938.0</td>\n",
       "      <td>25.0</td>\n",
       "      <td>Won</td>\n",
       "      <td>W</td>\n",
       "      <td>41.0</td>\n",
       "      <td>0.8</td>\n",
       "      <td>1210.0</td>\n",
       "      <td>1668701718</td>\n",
       "      <td>2021-04-01</td>\n",
       "      <td>1047.0</td>\n",
       "    </tr>\n",
       "  </tbody>\n",
       "</table>\n",
       "</div>"
      ],
      "text/plain": [
       "   item_date  quantity_tons    customer  country status item_type  \\\n",
       "0 2021-04-01      54.151139  30156308.0     28.0    Won         W   \n",
       "1 2021-04-01     768.024839  30202938.0     25.0    Won         W   \n",
       "\n",
       "   application  thickness   width  product_ref delivery_date  selling_price  \n",
       "0         10.0        2.0  1500.0   1670798778    2021-07-01          854.0  \n",
       "1         41.0        0.8  1210.0   1668701718    2021-04-01         1047.0  "
      ]
     },
     "execution_count": 372,
     "metadata": {},
     "output_type": "execute_result"
    }
   ],
   "source": [
    "df.head(2)"
   ]
  },
  {
   "cell_type": "markdown",
   "metadata": {},
   "source": [
    "# Descriptive Statistics"
   ]
  },
  {
   "cell_type": "code",
   "execution_count": 373,
   "metadata": {},
   "outputs": [
    {
     "data": {
      "text/html": [
       "<div>\n",
       "<style scoped>\n",
       "    .dataframe tbody tr th:only-of-type {\n",
       "        vertical-align: middle;\n",
       "    }\n",
       "\n",
       "    .dataframe tbody tr th {\n",
       "        vertical-align: top;\n",
       "    }\n",
       "\n",
       "    .dataframe thead th {\n",
       "        text-align: right;\n",
       "    }\n",
       "</style>\n",
       "<table border=\"1\" class=\"dataframe\">\n",
       "  <thead>\n",
       "    <tr style=\"text-align: right;\">\n",
       "      <th></th>\n",
       "      <th>count</th>\n",
       "      <th>mean</th>\n",
       "      <th>min</th>\n",
       "      <th>25%</th>\n",
       "      <th>50%</th>\n",
       "      <th>75%</th>\n",
       "      <th>max</th>\n",
       "      <th>std</th>\n",
       "    </tr>\n",
       "  </thead>\n",
       "  <tbody>\n",
       "    <tr>\n",
       "      <th>item_date</th>\n",
       "      <td>181673</td>\n",
       "      <td>2020-11-26 22:57:05.323521024</td>\n",
       "      <td>2020-07-02 00:00:00</td>\n",
       "      <td>2020-09-29 00:00:00</td>\n",
       "      <td>2020-11-30 00:00:00</td>\n",
       "      <td>2021-02-03 00:00:00</td>\n",
       "      <td>2021-04-01 00:00:00</td>\n",
       "      <td>NaN</td>\n",
       "    </tr>\n",
       "    <tr>\n",
       "      <th>quantity_tons</th>\n",
       "      <td>181673.0</td>\n",
       "      <td>5874.925754</td>\n",
       "      <td>-2000.0</td>\n",
       "      <td>10.970374</td>\n",
       "      <td>30.364989</td>\n",
       "      <td>67.161295</td>\n",
       "      <td>1000000000.0</td>\n",
       "      <td>2349074.776494</td>\n",
       "    </tr>\n",
       "    <tr>\n",
       "      <th>customer</th>\n",
       "      <td>181673.0</td>\n",
       "      <td>30512209.027968</td>\n",
       "      <td>12458.0</td>\n",
       "      <td>30196884.0</td>\n",
       "      <td>30205242.0</td>\n",
       "      <td>30280416.0</td>\n",
       "      <td>2147483647.0</td>\n",
       "      <td>24333748.612095</td>\n",
       "    </tr>\n",
       "    <tr>\n",
       "      <th>country</th>\n",
       "      <td>181673.0</td>\n",
       "      <td>44.893022</td>\n",
       "      <td>25.0</td>\n",
       "      <td>26.0</td>\n",
       "      <td>30.0</td>\n",
       "      <td>78.0</td>\n",
       "      <td>113.0</td>\n",
       "      <td>24.402334</td>\n",
       "    </tr>\n",
       "    <tr>\n",
       "      <th>application</th>\n",
       "      <td>181673.0</td>\n",
       "      <td>25.615809</td>\n",
       "      <td>2.0</td>\n",
       "      <td>10.0</td>\n",
       "      <td>15.0</td>\n",
       "      <td>41.0</td>\n",
       "      <td>99.0</td>\n",
       "      <td>17.753002</td>\n",
       "    </tr>\n",
       "    <tr>\n",
       "      <th>thickness</th>\n",
       "      <td>181673.0</td>\n",
       "      <td>2.564827</td>\n",
       "      <td>0.18</td>\n",
       "      <td>0.7</td>\n",
       "      <td>1.5</td>\n",
       "      <td>3.0</td>\n",
       "      <td>2500.0</td>\n",
       "      <td>6.572303</td>\n",
       "    </tr>\n",
       "    <tr>\n",
       "      <th>width</th>\n",
       "      <td>181673.0</td>\n",
       "      <td>1295.286724</td>\n",
       "      <td>1.0</td>\n",
       "      <td>1180.0</td>\n",
       "      <td>1250.0</td>\n",
       "      <td>1500.0</td>\n",
       "      <td>2990.0</td>\n",
       "      <td>261.631754</td>\n",
       "    </tr>\n",
       "    <tr>\n",
       "      <th>product_ref</th>\n",
       "      <td>181673.0</td>\n",
       "      <td>473967910.724318</td>\n",
       "      <td>611728.0</td>\n",
       "      <td>611993.0</td>\n",
       "      <td>640665.0</td>\n",
       "      <td>1332077137.0</td>\n",
       "      <td>1722207579.0</td>\n",
       "      <td>717510064.710402</td>\n",
       "    </tr>\n",
       "    <tr>\n",
       "      <th>delivery_date</th>\n",
       "      <td>181673</td>\n",
       "      <td>2021-01-25 22:43:50.629757696</td>\n",
       "      <td>2019-04-01 00:00:00</td>\n",
       "      <td>2020-11-01 00:00:00</td>\n",
       "      <td>2021-01-01 00:00:00</td>\n",
       "      <td>2021-04-01 00:00:00</td>\n",
       "      <td>2022-01-01 00:00:00</td>\n",
       "      <td>NaN</td>\n",
       "    </tr>\n",
       "    <tr>\n",
       "      <th>selling_price</th>\n",
       "      <td>181673.0</td>\n",
       "      <td>1918.029527</td>\n",
       "      <td>-1160.0</td>\n",
       "      <td>669.0</td>\n",
       "      <td>812.0</td>\n",
       "      <td>953.0</td>\n",
       "      <td>100001015.0</td>\n",
       "      <td>331794.729392</td>\n",
       "    </tr>\n",
       "  </tbody>\n",
       "</table>\n",
       "</div>"
      ],
      "text/plain": [
       "                  count                           mean                  min  \\\n",
       "item_date        181673  2020-11-26 22:57:05.323521024  2020-07-02 00:00:00   \n",
       "quantity_tons  181673.0                    5874.925754              -2000.0   \n",
       "customer       181673.0                30512209.027968              12458.0   \n",
       "country        181673.0                      44.893022                 25.0   \n",
       "application    181673.0                      25.615809                  2.0   \n",
       "thickness      181673.0                       2.564827                 0.18   \n",
       "width          181673.0                    1295.286724                  1.0   \n",
       "product_ref    181673.0               473967910.724318             611728.0   \n",
       "delivery_date    181673  2021-01-25 22:43:50.629757696  2019-04-01 00:00:00   \n",
       "selling_price  181673.0                    1918.029527              -1160.0   \n",
       "\n",
       "                               25%                  50%                  75%  \\\n",
       "item_date      2020-09-29 00:00:00  2020-11-30 00:00:00  2021-02-03 00:00:00   \n",
       "quantity_tons            10.970374            30.364989            67.161295   \n",
       "customer                30196884.0           30205242.0           30280416.0   \n",
       "country                       26.0                 30.0                 78.0   \n",
       "application                   10.0                 15.0                 41.0   \n",
       "thickness                      0.7                  1.5                  3.0   \n",
       "width                       1180.0               1250.0               1500.0   \n",
       "product_ref               611993.0             640665.0         1332077137.0   \n",
       "delivery_date  2020-11-01 00:00:00  2021-01-01 00:00:00  2021-04-01 00:00:00   \n",
       "selling_price                669.0                812.0                953.0   \n",
       "\n",
       "                               max               std  \n",
       "item_date      2021-04-01 00:00:00               NaN  \n",
       "quantity_tons         1000000000.0    2349074.776494  \n",
       "customer              2147483647.0   24333748.612095  \n",
       "country                      113.0         24.402334  \n",
       "application                   99.0         17.753002  \n",
       "thickness                   2500.0          6.572303  \n",
       "width                       2990.0        261.631754  \n",
       "product_ref           1722207579.0  717510064.710402  \n",
       "delivery_date  2022-01-01 00:00:00               NaN  \n",
       "selling_price          100001015.0     331794.729392  "
      ]
     },
     "execution_count": 373,
     "metadata": {},
     "output_type": "execute_result"
    }
   ],
   "source": [
    "df.describe().T"
   ]
  },
  {
   "cell_type": "markdown",
   "metadata": {},
   "source": [
    "# Negative to Positive values conversion"
   ]
  },
  {
   "cell_type": "code",
   "execution_count": 374,
   "metadata": {},
   "outputs": [],
   "source": [
    "df['quantity_tons'] = df['quantity_tons'].apply(lambda x: np.nan if x <=0 else x)\n",
    "df['selling_price'] = df['selling_price'].apply(lambda x: np.nan if x <=0 else x)"
   ]
  },
  {
   "cell_type": "code",
   "execution_count": 375,
   "metadata": {},
   "outputs": [
    {
     "data": {
      "text/html": [
       "<div>\n",
       "<style scoped>\n",
       "    .dataframe tbody tr th:only-of-type {\n",
       "        vertical-align: middle;\n",
       "    }\n",
       "\n",
       "    .dataframe tbody tr th {\n",
       "        vertical-align: top;\n",
       "    }\n",
       "\n",
       "    .dataframe thead th {\n",
       "        text-align: right;\n",
       "    }\n",
       "</style>\n",
       "<table border=\"1\" class=\"dataframe\">\n",
       "  <thead>\n",
       "    <tr style=\"text-align: right;\">\n",
       "      <th></th>\n",
       "      <th>count</th>\n",
       "      <th>mean</th>\n",
       "      <th>min</th>\n",
       "      <th>25%</th>\n",
       "      <th>50%</th>\n",
       "      <th>75%</th>\n",
       "      <th>max</th>\n",
       "      <th>std</th>\n",
       "    </tr>\n",
       "  </thead>\n",
       "  <tbody>\n",
       "    <tr>\n",
       "      <th>item_date</th>\n",
       "      <td>181673</td>\n",
       "      <td>2020-11-26 22:57:05.323521024</td>\n",
       "      <td>2020-07-02 00:00:00</td>\n",
       "      <td>2020-09-29 00:00:00</td>\n",
       "      <td>2020-11-30 00:00:00</td>\n",
       "      <td>2021-02-03 00:00:00</td>\n",
       "      <td>2021-04-01 00:00:00</td>\n",
       "      <td>NaN</td>\n",
       "    </tr>\n",
       "    <tr>\n",
       "      <th>quantity_tons</th>\n",
       "      <td>181669.0</td>\n",
       "      <td>5875.066246</td>\n",
       "      <td>0.00001</td>\n",
       "      <td>10.971385</td>\n",
       "      <td>30.365022</td>\n",
       "      <td>67.161454</td>\n",
       "      <td>1000000000.0</td>\n",
       "      <td>2349100.637341</td>\n",
       "    </tr>\n",
       "    <tr>\n",
       "      <th>customer</th>\n",
       "      <td>181673.0</td>\n",
       "      <td>30512209.027968</td>\n",
       "      <td>12458.0</td>\n",
       "      <td>30196884.0</td>\n",
       "      <td>30205242.0</td>\n",
       "      <td>30280416.0</td>\n",
       "      <td>2147483647.0</td>\n",
       "      <td>24333748.612095</td>\n",
       "    </tr>\n",
       "    <tr>\n",
       "      <th>country</th>\n",
       "      <td>181673.0</td>\n",
       "      <td>44.893022</td>\n",
       "      <td>25.0</td>\n",
       "      <td>26.0</td>\n",
       "      <td>30.0</td>\n",
       "      <td>78.0</td>\n",
       "      <td>113.0</td>\n",
       "      <td>24.402334</td>\n",
       "    </tr>\n",
       "    <tr>\n",
       "      <th>application</th>\n",
       "      <td>181673.0</td>\n",
       "      <td>25.615809</td>\n",
       "      <td>2.0</td>\n",
       "      <td>10.0</td>\n",
       "      <td>15.0</td>\n",
       "      <td>41.0</td>\n",
       "      <td>99.0</td>\n",
       "      <td>17.753002</td>\n",
       "    </tr>\n",
       "    <tr>\n",
       "      <th>thickness</th>\n",
       "      <td>181673.0</td>\n",
       "      <td>2.564827</td>\n",
       "      <td>0.18</td>\n",
       "      <td>0.7</td>\n",
       "      <td>1.5</td>\n",
       "      <td>3.0</td>\n",
       "      <td>2500.0</td>\n",
       "      <td>6.572303</td>\n",
       "    </tr>\n",
       "    <tr>\n",
       "      <th>width</th>\n",
       "      <td>181673.0</td>\n",
       "      <td>1295.286724</td>\n",
       "      <td>1.0</td>\n",
       "      <td>1180.0</td>\n",
       "      <td>1250.0</td>\n",
       "      <td>1500.0</td>\n",
       "      <td>2990.0</td>\n",
       "      <td>261.631754</td>\n",
       "    </tr>\n",
       "    <tr>\n",
       "      <th>product_ref</th>\n",
       "      <td>181673.0</td>\n",
       "      <td>473967910.724318</td>\n",
       "      <td>611728.0</td>\n",
       "      <td>611993.0</td>\n",
       "      <td>640665.0</td>\n",
       "      <td>1332077137.0</td>\n",
       "      <td>1722207579.0</td>\n",
       "      <td>717510064.710402</td>\n",
       "    </tr>\n",
       "    <tr>\n",
       "      <th>delivery_date</th>\n",
       "      <td>181673</td>\n",
       "      <td>2021-01-25 22:43:50.629757696</td>\n",
       "      <td>2019-04-01 00:00:00</td>\n",
       "      <td>2020-11-01 00:00:00</td>\n",
       "      <td>2021-01-01 00:00:00</td>\n",
       "      <td>2021-04-01 00:00:00</td>\n",
       "      <td>2022-01-01 00:00:00</td>\n",
       "      <td>NaN</td>\n",
       "    </tr>\n",
       "    <tr>\n",
       "      <th>selling_price</th>\n",
       "      <td>181666.0</td>\n",
       "      <td>1918.118274</td>\n",
       "      <td>0.1</td>\n",
       "      <td>669.0</td>\n",
       "      <td>812.0</td>\n",
       "      <td>953.0</td>\n",
       "      <td>100001015.0</td>\n",
       "      <td>331801.121447</td>\n",
       "    </tr>\n",
       "  </tbody>\n",
       "</table>\n",
       "</div>"
      ],
      "text/plain": [
       "                  count                           mean                  min  \\\n",
       "item_date        181673  2020-11-26 22:57:05.323521024  2020-07-02 00:00:00   \n",
       "quantity_tons  181669.0                    5875.066246              0.00001   \n",
       "customer       181673.0                30512209.027968              12458.0   \n",
       "country        181673.0                      44.893022                 25.0   \n",
       "application    181673.0                      25.615809                  2.0   \n",
       "thickness      181673.0                       2.564827                 0.18   \n",
       "width          181673.0                    1295.286724                  1.0   \n",
       "product_ref    181673.0               473967910.724318             611728.0   \n",
       "delivery_date    181673  2021-01-25 22:43:50.629757696  2019-04-01 00:00:00   \n",
       "selling_price  181666.0                    1918.118274                  0.1   \n",
       "\n",
       "                               25%                  50%                  75%  \\\n",
       "item_date      2020-09-29 00:00:00  2020-11-30 00:00:00  2021-02-03 00:00:00   \n",
       "quantity_tons            10.971385            30.365022            67.161454   \n",
       "customer                30196884.0           30205242.0           30280416.0   \n",
       "country                       26.0                 30.0                 78.0   \n",
       "application                   10.0                 15.0                 41.0   \n",
       "thickness                      0.7                  1.5                  3.0   \n",
       "width                       1180.0               1250.0               1500.0   \n",
       "product_ref               611993.0             640665.0         1332077137.0   \n",
       "delivery_date  2020-11-01 00:00:00  2021-01-01 00:00:00  2021-04-01 00:00:00   \n",
       "selling_price                669.0                812.0                953.0   \n",
       "\n",
       "                               max               std  \n",
       "item_date      2021-04-01 00:00:00               NaN  \n",
       "quantity_tons         1000000000.0    2349100.637341  \n",
       "customer              2147483647.0   24333748.612095  \n",
       "country                      113.0         24.402334  \n",
       "application                   99.0         17.753002  \n",
       "thickness                   2500.0          6.572303  \n",
       "width                       2990.0        261.631754  \n",
       "product_ref           1722207579.0  717510064.710402  \n",
       "delivery_date  2022-01-01 00:00:00               NaN  \n",
       "selling_price          100001015.0     331801.121447  "
      ]
     },
     "execution_count": 375,
     "metadata": {},
     "output_type": "execute_result"
    }
   ],
   "source": [
    "df.describe().T"
   ]
  },
  {
   "cell_type": "markdown",
   "metadata": {},
   "source": [
    "## Null Values Checking"
   ]
  },
  {
   "cell_type": "code",
   "execution_count": 376,
   "metadata": {},
   "outputs": [
    {
     "data": {
      "text/plain": [
       "item_date        0\n",
       "quantity_tons    4\n",
       "customer         0\n",
       "country          0\n",
       "status           0\n",
       "item_type        0\n",
       "application      0\n",
       "thickness        0\n",
       "width            0\n",
       "product_ref      0\n",
       "delivery_date    0\n",
       "selling_price    7\n",
       "dtype: int64"
      ]
     },
     "execution_count": 376,
     "metadata": {},
     "output_type": "execute_result"
    }
   ],
   "source": [
    "df.isna().sum()"
   ]
  },
  {
   "cell_type": "markdown",
   "metadata": {},
   "source": [
    "# Null values Imputation"
   ]
  },
  {
   "cell_type": "code",
   "execution_count": 377,
   "metadata": {},
   "outputs": [],
   "source": [
    "df['quantity_tons'] = df['quantity_tons'].fillna(df['quantity_tons'].mean())\n",
    "df['selling_price'] = df['selling_price'].fillna(df['selling_price'].mean())"
   ]
  },
  {
   "cell_type": "code",
   "execution_count": 378,
   "metadata": {},
   "outputs": [
    {
     "data": {
      "text/plain": [
       "item_date        0\n",
       "quantity_tons    0\n",
       "customer         0\n",
       "country          0\n",
       "status           0\n",
       "item_type        0\n",
       "application      0\n",
       "thickness        0\n",
       "width            0\n",
       "product_ref      0\n",
       "delivery_date    0\n",
       "selling_price    0\n",
       "dtype: int64"
      ]
     },
     "execution_count": 378,
     "metadata": {},
     "output_type": "execute_result"
    }
   ],
   "source": [
    "df.isna().sum()"
   ]
  },
  {
   "cell_type": "markdown",
   "metadata": {},
   "source": [
    "## Selection of Numerical columns:"
   ]
  },
  {
   "cell_type": "code",
   "execution_count": 379,
   "metadata": {},
   "outputs": [],
   "source": [
    "num_cols = df.select_dtypes(include='number')"
   ]
  },
  {
   "cell_type": "code",
   "execution_count": 380,
   "metadata": {},
   "outputs": [
    {
     "data": {
      "text/html": [
       "<div>\n",
       "<style scoped>\n",
       "    .dataframe tbody tr th:only-of-type {\n",
       "        vertical-align: middle;\n",
       "    }\n",
       "\n",
       "    .dataframe tbody tr th {\n",
       "        vertical-align: top;\n",
       "    }\n",
       "\n",
       "    .dataframe thead th {\n",
       "        text-align: right;\n",
       "    }\n",
       "</style>\n",
       "<table border=\"1\" class=\"dataframe\">\n",
       "  <thead>\n",
       "    <tr style=\"text-align: right;\">\n",
       "      <th></th>\n",
       "      <th>quantity_tons</th>\n",
       "      <th>customer</th>\n",
       "      <th>country</th>\n",
       "      <th>application</th>\n",
       "      <th>thickness</th>\n",
       "      <th>width</th>\n",
       "      <th>product_ref</th>\n",
       "      <th>selling_price</th>\n",
       "    </tr>\n",
       "  </thead>\n",
       "  <tbody>\n",
       "    <tr>\n",
       "      <th>0</th>\n",
       "      <td>54.151139</td>\n",
       "      <td>30156308.0</td>\n",
       "      <td>28.0</td>\n",
       "      <td>10.0</td>\n",
       "      <td>2.00</td>\n",
       "      <td>1500.0</td>\n",
       "      <td>1670798778</td>\n",
       "      <td>854.00</td>\n",
       "    </tr>\n",
       "    <tr>\n",
       "      <th>1</th>\n",
       "      <td>768.024839</td>\n",
       "      <td>30202938.0</td>\n",
       "      <td>25.0</td>\n",
       "      <td>41.0</td>\n",
       "      <td>0.80</td>\n",
       "      <td>1210.0</td>\n",
       "      <td>1668701718</td>\n",
       "      <td>1047.00</td>\n",
       "    </tr>\n",
       "    <tr>\n",
       "      <th>2</th>\n",
       "      <td>386.127949</td>\n",
       "      <td>30153963.0</td>\n",
       "      <td>30.0</td>\n",
       "      <td>28.0</td>\n",
       "      <td>0.38</td>\n",
       "      <td>952.0</td>\n",
       "      <td>628377</td>\n",
       "      <td>644.33</td>\n",
       "    </tr>\n",
       "    <tr>\n",
       "      <th>3</th>\n",
       "      <td>202.411065</td>\n",
       "      <td>30349574.0</td>\n",
       "      <td>32.0</td>\n",
       "      <td>59.0</td>\n",
       "      <td>2.30</td>\n",
       "      <td>1317.0</td>\n",
       "      <td>1668701718</td>\n",
       "      <td>768.00</td>\n",
       "    </tr>\n",
       "    <tr>\n",
       "      <th>4</th>\n",
       "      <td>785.526262</td>\n",
       "      <td>30211560.0</td>\n",
       "      <td>28.0</td>\n",
       "      <td>10.0</td>\n",
       "      <td>4.00</td>\n",
       "      <td>2000.0</td>\n",
       "      <td>640665</td>\n",
       "      <td>577.00</td>\n",
       "    </tr>\n",
       "    <tr>\n",
       "      <th>...</th>\n",
       "      <td>...</td>\n",
       "      <td>...</td>\n",
       "      <td>...</td>\n",
       "      <td>...</td>\n",
       "      <td>...</td>\n",
       "      <td>...</td>\n",
       "      <td>...</td>\n",
       "      <td>...</td>\n",
       "    </tr>\n",
       "    <tr>\n",
       "      <th>181668</th>\n",
       "      <td>102.482422</td>\n",
       "      <td>30200854.0</td>\n",
       "      <td>25.0</td>\n",
       "      <td>41.0</td>\n",
       "      <td>0.96</td>\n",
       "      <td>1220.0</td>\n",
       "      <td>164141591</td>\n",
       "      <td>591.00</td>\n",
       "    </tr>\n",
       "    <tr>\n",
       "      <th>181669</th>\n",
       "      <td>208.086469</td>\n",
       "      <td>30200854.0</td>\n",
       "      <td>25.0</td>\n",
       "      <td>41.0</td>\n",
       "      <td>0.95</td>\n",
       "      <td>1500.0</td>\n",
       "      <td>164141591</td>\n",
       "      <td>589.00</td>\n",
       "    </tr>\n",
       "    <tr>\n",
       "      <th>181670</th>\n",
       "      <td>4.235594</td>\n",
       "      <td>30200854.0</td>\n",
       "      <td>25.0</td>\n",
       "      <td>41.0</td>\n",
       "      <td>0.71</td>\n",
       "      <td>1250.0</td>\n",
       "      <td>164141591</td>\n",
       "      <td>619.00</td>\n",
       "    </tr>\n",
       "    <tr>\n",
       "      <th>181671</th>\n",
       "      <td>5875.066246</td>\n",
       "      <td>30200854.0</td>\n",
       "      <td>25.0</td>\n",
       "      <td>41.0</td>\n",
       "      <td>0.85</td>\n",
       "      <td>1250.0</td>\n",
       "      <td>164141591</td>\n",
       "      <td>601.00</td>\n",
       "    </tr>\n",
       "    <tr>\n",
       "      <th>181672</th>\n",
       "      <td>406.686538</td>\n",
       "      <td>30200854.0</td>\n",
       "      <td>25.0</td>\n",
       "      <td>41.0</td>\n",
       "      <td>0.71</td>\n",
       "      <td>1240.0</td>\n",
       "      <td>164141591</td>\n",
       "      <td>607.00</td>\n",
       "    </tr>\n",
       "  </tbody>\n",
       "</table>\n",
       "<p>181673 rows × 8 columns</p>\n",
       "</div>"
      ],
      "text/plain": [
       "        quantity_tons    customer  country  application  thickness   width  \\\n",
       "0           54.151139  30156308.0     28.0         10.0       2.00  1500.0   \n",
       "1          768.024839  30202938.0     25.0         41.0       0.80  1210.0   \n",
       "2          386.127949  30153963.0     30.0         28.0       0.38   952.0   \n",
       "3          202.411065  30349574.0     32.0         59.0       2.30  1317.0   \n",
       "4          785.526262  30211560.0     28.0         10.0       4.00  2000.0   \n",
       "...               ...         ...      ...          ...        ...     ...   \n",
       "181668     102.482422  30200854.0     25.0         41.0       0.96  1220.0   \n",
       "181669     208.086469  30200854.0     25.0         41.0       0.95  1500.0   \n",
       "181670       4.235594  30200854.0     25.0         41.0       0.71  1250.0   \n",
       "181671    5875.066246  30200854.0     25.0         41.0       0.85  1250.0   \n",
       "181672     406.686538  30200854.0     25.0         41.0       0.71  1240.0   \n",
       "\n",
       "        product_ref  selling_price  \n",
       "0        1670798778         854.00  \n",
       "1        1668701718        1047.00  \n",
       "2            628377         644.33  \n",
       "3        1668701718         768.00  \n",
       "4            640665         577.00  \n",
       "...             ...            ...  \n",
       "181668    164141591         591.00  \n",
       "181669    164141591         589.00  \n",
       "181670    164141591         619.00  \n",
       "181671    164141591         601.00  \n",
       "181672    164141591         607.00  \n",
       "\n",
       "[181673 rows x 8 columns]"
      ]
     },
     "execution_count": 380,
     "metadata": {},
     "output_type": "execute_result"
    }
   ],
   "source": [
    "num_cols"
   ]
  },
  {
   "cell_type": "code",
   "execution_count": 381,
   "metadata": {},
   "outputs": [
    {
     "data": {
      "text/html": [
       "<div>\n",
       "<style scoped>\n",
       "    .dataframe tbody tr th:only-of-type {\n",
       "        vertical-align: middle;\n",
       "    }\n",
       "\n",
       "    .dataframe tbody tr th {\n",
       "        vertical-align: top;\n",
       "    }\n",
       "\n",
       "    .dataframe thead th {\n",
       "        text-align: right;\n",
       "    }\n",
       "</style>\n",
       "<table border=\"1\" class=\"dataframe\">\n",
       "  <thead>\n",
       "    <tr style=\"text-align: right;\">\n",
       "      <th></th>\n",
       "      <th>count</th>\n",
       "      <th>mean</th>\n",
       "      <th>std</th>\n",
       "      <th>min</th>\n",
       "      <th>25%</th>\n",
       "      <th>50%</th>\n",
       "      <th>75%</th>\n",
       "      <th>max</th>\n",
       "    </tr>\n",
       "  </thead>\n",
       "  <tbody>\n",
       "    <tr>\n",
       "      <th>quantity_tons</th>\n",
       "      <td>181673.0</td>\n",
       "      <td>5.875066e+03</td>\n",
       "      <td>2.349075e+06</td>\n",
       "      <td>0.00001</td>\n",
       "      <td>1.097167e+01</td>\n",
       "      <td>3.036556e+01</td>\n",
       "      <td>6.716871e+01</td>\n",
       "      <td>1.000000e+09</td>\n",
       "    </tr>\n",
       "    <tr>\n",
       "      <th>customer</th>\n",
       "      <td>181673.0</td>\n",
       "      <td>3.051221e+07</td>\n",
       "      <td>2.433375e+07</td>\n",
       "      <td>12458.00000</td>\n",
       "      <td>3.019688e+07</td>\n",
       "      <td>3.020524e+07</td>\n",
       "      <td>3.028042e+07</td>\n",
       "      <td>2.147484e+09</td>\n",
       "    </tr>\n",
       "    <tr>\n",
       "      <th>country</th>\n",
       "      <td>181673.0</td>\n",
       "      <td>4.489302e+01</td>\n",
       "      <td>2.440233e+01</td>\n",
       "      <td>25.00000</td>\n",
       "      <td>2.600000e+01</td>\n",
       "      <td>3.000000e+01</td>\n",
       "      <td>7.800000e+01</td>\n",
       "      <td>1.130000e+02</td>\n",
       "    </tr>\n",
       "    <tr>\n",
       "      <th>application</th>\n",
       "      <td>181673.0</td>\n",
       "      <td>2.561581e+01</td>\n",
       "      <td>1.775300e+01</td>\n",
       "      <td>2.00000</td>\n",
       "      <td>1.000000e+01</td>\n",
       "      <td>1.500000e+01</td>\n",
       "      <td>4.100000e+01</td>\n",
       "      <td>9.900000e+01</td>\n",
       "    </tr>\n",
       "    <tr>\n",
       "      <th>thickness</th>\n",
       "      <td>181673.0</td>\n",
       "      <td>2.564827e+00</td>\n",
       "      <td>6.572303e+00</td>\n",
       "      <td>0.18000</td>\n",
       "      <td>7.000000e-01</td>\n",
       "      <td>1.500000e+00</td>\n",
       "      <td>3.000000e+00</td>\n",
       "      <td>2.500000e+03</td>\n",
       "    </tr>\n",
       "    <tr>\n",
       "      <th>width</th>\n",
       "      <td>181673.0</td>\n",
       "      <td>1.295287e+03</td>\n",
       "      <td>2.616318e+02</td>\n",
       "      <td>1.00000</td>\n",
       "      <td>1.180000e+03</td>\n",
       "      <td>1.250000e+03</td>\n",
       "      <td>1.500000e+03</td>\n",
       "      <td>2.990000e+03</td>\n",
       "    </tr>\n",
       "    <tr>\n",
       "      <th>product_ref</th>\n",
       "      <td>181673.0</td>\n",
       "      <td>4.739679e+08</td>\n",
       "      <td>7.175101e+08</td>\n",
       "      <td>611728.00000</td>\n",
       "      <td>6.119930e+05</td>\n",
       "      <td>6.406650e+05</td>\n",
       "      <td>1.332077e+09</td>\n",
       "      <td>1.722208e+09</td>\n",
       "    </tr>\n",
       "    <tr>\n",
       "      <th>selling_price</th>\n",
       "      <td>181673.0</td>\n",
       "      <td>1.918118e+03</td>\n",
       "      <td>3.317947e+05</td>\n",
       "      <td>0.10000</td>\n",
       "      <td>6.690000e+02</td>\n",
       "      <td>8.120000e+02</td>\n",
       "      <td>9.530000e+02</td>\n",
       "      <td>1.000010e+08</td>\n",
       "    </tr>\n",
       "  </tbody>\n",
       "</table>\n",
       "</div>"
      ],
      "text/plain": [
       "                  count          mean           std           min  \\\n",
       "quantity_tons  181673.0  5.875066e+03  2.349075e+06       0.00001   \n",
       "customer       181673.0  3.051221e+07  2.433375e+07   12458.00000   \n",
       "country        181673.0  4.489302e+01  2.440233e+01      25.00000   \n",
       "application    181673.0  2.561581e+01  1.775300e+01       2.00000   \n",
       "thickness      181673.0  2.564827e+00  6.572303e+00       0.18000   \n",
       "width          181673.0  1.295287e+03  2.616318e+02       1.00000   \n",
       "product_ref    181673.0  4.739679e+08  7.175101e+08  611728.00000   \n",
       "selling_price  181673.0  1.918118e+03  3.317947e+05       0.10000   \n",
       "\n",
       "                        25%           50%           75%           max  \n",
       "quantity_tons  1.097167e+01  3.036556e+01  6.716871e+01  1.000000e+09  \n",
       "customer       3.019688e+07  3.020524e+07  3.028042e+07  2.147484e+09  \n",
       "country        2.600000e+01  3.000000e+01  7.800000e+01  1.130000e+02  \n",
       "application    1.000000e+01  1.500000e+01  4.100000e+01  9.900000e+01  \n",
       "thickness      7.000000e-01  1.500000e+00  3.000000e+00  2.500000e+03  \n",
       "width          1.180000e+03  1.250000e+03  1.500000e+03  2.990000e+03  \n",
       "product_ref    6.119930e+05  6.406650e+05  1.332077e+09  1.722208e+09  \n",
       "selling_price  6.690000e+02  8.120000e+02  9.530000e+02  1.000010e+08  "
      ]
     },
     "execution_count": 381,
     "metadata": {},
     "output_type": "execute_result"
    }
   ],
   "source": [
    "num_cols.describe().T"
   ]
  },
  {
   "cell_type": "markdown",
   "metadata": {},
   "source": [
    "# Data Distribution Checking:"
   ]
  },
  {
   "cell_type": "code",
   "execution_count": 382,
   "metadata": {},
   "outputs": [
    {
     "name": "stdout",
     "output_type": "stream",
     "text": [
      "quantity_tons : 424.6873098504177\n",
      "customer : 86.984590056198\n",
      "country : 0.7536463842839621\n",
      "application : 0.7244009800031509\n",
      "thickness : 303.44512882706977\n",
      "width : 0.37459367901082125\n",
      "product_ref : 1.0152071910463223\n",
      "selling_price : 301.38559952448503\n"
     ]
    }
   ],
   "source": [
    "for col in num_cols:\n",
    "    print(f\"{col} : {(skew(df[col]))}\")"
   ]
  },
  {
   "cell_type": "code",
   "execution_count": 383,
   "metadata": {},
   "outputs": [
    {
     "data": {
      "image/png": "[encoded data removed]",
      "text/plain": [
       "<Figure size 1500x800 with 8 Axes>"
      ]
     },
     "metadata": {},
     "output_type": "display_data"
    }
   ],
   "source": [
    "plt.figure(figsize=(15, 8))\n",
    "for i, col in enumerate(num_cols, 1):\n",
    "    plt.subplot(2, 4, i)\n",
    "    sns.kdeplot(df[col], label=col)\n",
    "    plt.legend()\n",
    "plt.tight_layout()\n",
    "plt.show()"
   ]
  },
  {
   "cell_type": "markdown",
   "metadata": {},
   "source": [
    "# Data Transformation - converting skewed data into Normal distribution"
   ]
  },
  {
   "cell_type": "markdown",
   "metadata": {},
   "source": [
    "# Log Transformation"
   ]
  },
  {
   "cell_type": "code",
   "execution_count": 384,
   "metadata": {},
   "outputs": [],
   "source": [
    "skew_cols = ['quantity_tons', 'thickness']"
   ]
  },
  {
   "cell_type": "code",
   "execution_count": 385,
   "metadata": {},
   "outputs": [
    {
     "data": {
      "text/plain": [
       "['quantity_tons', 'thickness']"
      ]
     },
     "execution_count": 385,
     "metadata": {},
     "output_type": "execute_result"
    }
   ],
   "source": [
    "skew_cols   "
   ]
  },
  {
   "cell_type": "code",
   "execution_count": 386,
   "metadata": {},
   "outputs": [],
   "source": [
    "for col in skew_cols:\n",
    "    df[col] = df[col].apply(lambda x: np.log(x+1))"
   ]
  },
  {
   "cell_type": "code",
   "execution_count": 387,
   "metadata": {},
   "outputs": [
    {
     "name": "stdout",
     "output_type": "stream",
     "text": [
      "quantity_tons: 0.3395652706514445\n",
      "thickness: 0.8624764776472826\n"
     ]
    }
   ],
   "source": [
    "for col in skew_cols:\n",
    "    print(f\"{col}: {(skew(df[col]))}\")"
   ]
  },
  {
   "cell_type": "markdown",
   "metadata": {},
   "source": [
    "# Plotting Data Distribution after Log Transformation"
   ]
  },
  {
   "cell_type": "code",
   "execution_count": 388,
   "metadata": {},
   "outputs": [
    {
     "data": {
      "image/png": "[encoded data removed]",
      "text/plain": [
       "<Figure size 1500x800 with 8 Axes>"
      ]
     },
     "metadata": {},
     "output_type": "display_data"
    }
   ],
   "source": [
    "plt.figure(figsize=(15, 8))\n",
    "for i, col in enumerate(num_cols, 1):\n",
    "    plt.subplot(2, 4, i)\n",
    "    sns.kdeplot(df[col], label=col)\n",
    "    plt.legend()\n",
    "plt.tight_layout()\n",
    "plt.show()"
   ]
  },
  {
   "cell_type": "code",
   "execution_count": 389,
   "metadata": {},
   "outputs": [
    {
     "data": {
      "text/html": [
       "<div>\n",
       "<style scoped>\n",
       "    .dataframe tbody tr th:only-of-type {\n",
       "        vertical-align: middle;\n",
       "    }\n",
       "\n",
       "    .dataframe tbody tr th {\n",
       "        vertical-align: top;\n",
       "    }\n",
       "\n",
       "    .dataframe thead th {\n",
       "        text-align: right;\n",
       "    }\n",
       "</style>\n",
       "<table border=\"1\" class=\"dataframe\">\n",
       "  <thead>\n",
       "    <tr style=\"text-align: right;\">\n",
       "      <th></th>\n",
       "      <th>item_date</th>\n",
       "      <th>quantity_tons</th>\n",
       "      <th>customer</th>\n",
       "      <th>country</th>\n",
       "      <th>status</th>\n",
       "      <th>item_type</th>\n",
       "      <th>application</th>\n",
       "      <th>thickness</th>\n",
       "      <th>width</th>\n",
       "      <th>product_ref</th>\n",
       "      <th>delivery_date</th>\n",
       "      <th>selling_price</th>\n",
       "    </tr>\n",
       "  </thead>\n",
       "  <tbody>\n",
       "    <tr>\n",
       "      <th>0</th>\n",
       "      <td>2021-04-01</td>\n",
       "      <td>4.010077</td>\n",
       "      <td>30156308.0</td>\n",
       "      <td>28.0</td>\n",
       "      <td>Won</td>\n",
       "      <td>W</td>\n",
       "      <td>10.0</td>\n",
       "      <td>1.098612</td>\n",
       "      <td>1500.0</td>\n",
       "      <td>1670798778</td>\n",
       "      <td>2021-07-01</td>\n",
       "      <td>854.0</td>\n",
       "    </tr>\n",
       "    <tr>\n",
       "      <th>1</th>\n",
       "      <td>2021-04-01</td>\n",
       "      <td>6.645123</td>\n",
       "      <td>30202938.0</td>\n",
       "      <td>25.0</td>\n",
       "      <td>Won</td>\n",
       "      <td>W</td>\n",
       "      <td>41.0</td>\n",
       "      <td>0.587787</td>\n",
       "      <td>1210.0</td>\n",
       "      <td>1668701718</td>\n",
       "      <td>2021-04-01</td>\n",
       "      <td>1047.0</td>\n",
       "    </tr>\n",
       "  </tbody>\n",
       "</table>\n",
       "</div>"
      ],
      "text/plain": [
       "   item_date  quantity_tons    customer  country status item_type  \\\n",
       "0 2021-04-01       4.010077  30156308.0     28.0    Won         W   \n",
       "1 2021-04-01       6.645123  30202938.0     25.0    Won         W   \n",
       "\n",
       "   application  thickness   width  product_ref delivery_date  selling_price  \n",
       "0         10.0   1.098612  1500.0   1670798778    2021-07-01          854.0  \n",
       "1         41.0   0.587787  1210.0   1668701718    2021-04-01         1047.0  "
      ]
     },
     "execution_count": 389,
     "metadata": {},
     "output_type": "execute_result"
    }
   ],
   "source": [
    "df.head(2)"
   ]
  },
  {
   "cell_type": "markdown",
   "metadata": {},
   "source": [
    "# Outliers Removal [Applied IQR Method]"
   ]
  },
  {
   "cell_type": "code",
   "execution_count": 390,
   "metadata": {},
   "outputs": [
    {
     "data": {
      "image/png": "[encoded data removed]",
      "text/plain": [
       "<Figure size 1500x800 with 8 Axes>"
      ]
     },
     "metadata": {},
     "output_type": "display_data"
    }
   ],
   "source": [
    "plt.figure(figsize=(15, 8))\n",
    "for i, col in enumerate(num_cols, 1):\n",
    "    plt.subplot(2, 4, i)\n",
    "    sns.boxplot(y=df[col])\n",
    "    plt.title(col)\n",
    "plt.tight_layout()\n",
    "plt.show()"
   ]
  },
  {
   "cell_type": "code",
   "execution_count": 391,
   "metadata": {},
   "outputs": [
    {
     "name": "stdout",
     "output_type": "stream",
     "text": [
      "Upper_fence : 87.5,Lower_fence:-36.5,Q1:10.0,Q2:15.0,Q3:41.0,IQR;31.0\n"
     ]
    }
   ],
   "source": [
    "q2 = df['application'].median()\n",
    "q1 = df[df['application']<q2]['application'].median()\n",
    "q3 = df[df['application']>q2]['application'].median()\n",
    "iqr = q3-q1\n",
    "lf = q1 - 1.5*iqr\n",
    "uf = q3 + 1.5*iqr\n",
    "print(f\"{'Upper_fence'} : {uf},{'Lower_fence'}:{lf},{'Q1'}:{q1},{'Q2'}:{q2},{'Q3'}:{q3},{'IQR'};{iqr}\")"
   ]
  },
  {
   "cell_type": "code",
   "execution_count": 392,
   "metadata": {},
   "outputs": [
    {
     "data": {
      "text/plain": [
       "Index([  3309,   3311,   3313,   3315,   8104,   8108,   8112,  26683,  29497,\n",
       "        29501,\n",
       "       ...\n",
       "       169497, 169501, 169505, 169509, 176133, 176137, 179527, 179531, 179535,\n",
       "       179539],\n",
       "      dtype='int64', length=146)"
      ]
     },
     "execution_count": 392,
     "metadata": {},
     "output_type": "execute_result"
    }
   ],
   "source": [
    "df[df['application']>uf].index"
   ]
  },
  {
   "cell_type": "code",
   "execution_count": 393,
   "metadata": {},
   "outputs": [
    {
     "data": {
      "text/plain": [
       "Index([], dtype='int64')"
      ]
     },
     "execution_count": 393,
     "metadata": {},
     "output_type": "execute_result"
    }
   ],
   "source": [
    "df[df['application']<lf].index"
   ]
  },
  {
   "cell_type": "code",
   "execution_count": 394,
   "metadata": {},
   "outputs": [
    {
     "data": {
      "text/plain": [
       "146"
      ]
     },
     "execution_count": 394,
     "metadata": {},
     "output_type": "execute_result"
    }
   ],
   "source": [
    "len(df.loc[df['application']>uf].index)"
   ]
  },
  {
   "cell_type": "code",
   "execution_count": 395,
   "metadata": {},
   "outputs": [],
   "source": [
    "df.drop(df.loc[df['application']>uf].index,inplace=True)"
   ]
  },
  {
   "cell_type": "code",
   "execution_count": 396,
   "metadata": {},
   "outputs": [
    {
     "data": {
      "image/png": "[encoded data removed]",
      "text/plain": [
       "<Figure size 640x480 with 1 Axes>"
      ]
     },
     "metadata": {},
     "output_type": "display_data"
    }
   ],
   "source": [
    "sns.boxplot(x=df['application'],data=df)\n",
    "plt.show()"
   ]
  },
  {
   "cell_type": "code",
   "execution_count": 397,
   "metadata": {},
   "outputs": [
    {
     "name": "stdout",
     "output_type": "stream",
     "text": [
      "0.5306282510621704 1.3862943611198906 0.8556661100577202\n"
     ]
    }
   ],
   "source": [
    "q1 = df['thickness'].quantile(0.25)\n",
    "q3 = df['thickness'].quantile(0.75)\n",
    "iqr = q3-q1\n",
    "print(q1,q3,iqr)\n"
   ]
  },
  {
   "cell_type": "code",
   "execution_count": 398,
   "metadata": {},
   "outputs": [],
   "source": [
    "lf = q1 - 1.5*iqr\n",
    "uf = q3+1.5*iqr"
   ]
  },
  {
   "cell_type": "code",
   "execution_count": 399,
   "metadata": {},
   "outputs": [
    {
     "name": "stdout",
     "output_type": "stream",
     "text": [
      "-0.75287091402441 2.6697935262064707\n"
     ]
    }
   ],
   "source": [
    "print(lf,uf)"
   ]
  },
  {
   "cell_type": "code",
   "execution_count": 400,
   "metadata": {},
   "outputs": [],
   "source": [
    "df = df[(df['thickness']>lf) & (df['thickness']<uf)]"
   ]
  },
  {
   "cell_type": "code",
   "execution_count": 401,
   "metadata": {},
   "outputs": [
    {
     "data": {
      "text/html": [
       "<div>\n",
       "<style scoped>\n",
       "    .dataframe tbody tr th:only-of-type {\n",
       "        vertical-align: middle;\n",
       "    }\n",
       "\n",
       "    .dataframe tbody tr th {\n",
       "        vertical-align: top;\n",
       "    }\n",
       "\n",
       "    .dataframe thead th {\n",
       "        text-align: right;\n",
       "    }\n",
       "</style>\n",
       "<table border=\"1\" class=\"dataframe\">\n",
       "  <thead>\n",
       "    <tr style=\"text-align: right;\">\n",
       "      <th></th>\n",
       "      <th>item_date</th>\n",
       "      <th>quantity_tons</th>\n",
       "      <th>customer</th>\n",
       "      <th>country</th>\n",
       "      <th>status</th>\n",
       "      <th>item_type</th>\n",
       "      <th>application</th>\n",
       "      <th>thickness</th>\n",
       "      <th>width</th>\n",
       "      <th>product_ref</th>\n",
       "      <th>delivery_date</th>\n",
       "      <th>selling_price</th>\n",
       "    </tr>\n",
       "  </thead>\n",
       "  <tbody>\n",
       "    <tr>\n",
       "      <th>0</th>\n",
       "      <td>2021-04-01</td>\n",
       "      <td>4.010077</td>\n",
       "      <td>30156308.0</td>\n",
       "      <td>28.0</td>\n",
       "      <td>Won</td>\n",
       "      <td>W</td>\n",
       "      <td>10.0</td>\n",
       "      <td>1.098612</td>\n",
       "      <td>1500.0</td>\n",
       "      <td>1670798778</td>\n",
       "      <td>2021-07-01</td>\n",
       "      <td>854.0</td>\n",
       "    </tr>\n",
       "    <tr>\n",
       "      <th>1</th>\n",
       "      <td>2021-04-01</td>\n",
       "      <td>6.645123</td>\n",
       "      <td>30202938.0</td>\n",
       "      <td>25.0</td>\n",
       "      <td>Won</td>\n",
       "      <td>W</td>\n",
       "      <td>41.0</td>\n",
       "      <td>0.587787</td>\n",
       "      <td>1210.0</td>\n",
       "      <td>1668701718</td>\n",
       "      <td>2021-04-01</td>\n",
       "      <td>1047.0</td>\n",
       "    </tr>\n",
       "  </tbody>\n",
       "</table>\n",
       "</div>"
      ],
      "text/plain": [
       "   item_date  quantity_tons    customer  country status item_type  \\\n",
       "0 2021-04-01       4.010077  30156308.0     28.0    Won         W   \n",
       "1 2021-04-01       6.645123  30202938.0     25.0    Won         W   \n",
       "\n",
       "   application  thickness   width  product_ref delivery_date  selling_price  \n",
       "0         10.0   1.098612  1500.0   1670798778    2021-07-01          854.0  \n",
       "1         41.0   0.587787  1210.0   1668701718    2021-04-01         1047.0  "
      ]
     },
     "execution_count": 401,
     "metadata": {},
     "output_type": "execute_result"
    }
   ],
   "source": [
    "df.head(2)"
   ]
  },
  {
   "cell_type": "code",
   "execution_count": 402,
   "metadata": {},
   "outputs": [
    {
     "data": {
      "image/png": "[encoded data removed]",
      "text/plain": [
       "<Figure size 640x480 with 1 Axes>"
      ]
     },
     "metadata": {},
     "output_type": "display_data"
    }
   ],
   "source": [
    "sns.boxplot(x=df['thickness'],data=df)\n",
    "plt.show()"
   ]
  },
  {
   "cell_type": "code",
   "execution_count": 403,
   "metadata": {},
   "outputs": [
    {
     "data": {
      "image/png": "[encoded data removed]",
      "text/plain": [
       "<Figure size 640x480 with 1 Axes>"
      ]
     },
     "metadata": {},
     "output_type": "display_data"
    }
   ],
   "source": [
    "sns.boxplot(x=df['thickness'],data=df)\n",
    "plt.show()"
   ]
  },
  {
   "cell_type": "code",
   "execution_count": 404,
   "metadata": {},
   "outputs": [
    {
     "name": "stdout",
     "output_type": "stream",
     "text": [
      "2.477091324479941 4.221002144820365 1.743910820340424\n"
     ]
    }
   ],
   "source": [
    "q1 = df['quantity_tons'].quantile(0.25)\n",
    "q3 = df['quantity_tons'].quantile(0.75)\n",
    "iqr = q3-q1\n",
    "print(q1,q3,iqr)\n"
   ]
  },
  {
   "cell_type": "code",
   "execution_count": 405,
   "metadata": {},
   "outputs": [
    {
     "name": "stdout",
     "output_type": "stream",
     "text": [
      "-0.1387749060306951 6.836868375331001\n"
     ]
    }
   ],
   "source": [
    "lf = q1 - 1.5*iqr\n",
    "uf = q3 + 1.5*iqr\n",
    "print(lf,uf)"
   ]
  },
  {
   "cell_type": "code",
   "execution_count": 406,
   "metadata": {},
   "outputs": [
    {
     "data": {
      "image/png": "[encoded data removed]",
      "text/plain": [
       "<Figure size 640x480 with 1 Axes>"
      ]
     },
     "metadata": {},
     "output_type": "display_data"
    }
   ],
   "source": [
    "sns.boxplot(x=df['quantity_tons'],data=df)\n",
    "plt.show()"
   ]
  },
  {
   "cell_type": "code",
   "execution_count": 407,
   "metadata": {},
   "outputs": [],
   "source": [
    "df = df[(df['quantity_tons']>lf) & (df['quantity_tons']<uf)]"
   ]
  },
  {
   "cell_type": "code",
   "execution_count": 408,
   "metadata": {},
   "outputs": [
    {
     "data": {
      "image/png": "[encoded data removed]",
      "text/plain": [
       "<Figure size 640x480 with 1 Axes>"
      ]
     },
     "metadata": {},
     "output_type": "display_data"
    }
   ],
   "source": [
    "sns.boxplot(x=df['quantity_tons'],data=df)\n",
    "plt.show()"
   ]
  },
  {
   "cell_type": "code",
   "execution_count": 409,
   "metadata": {},
   "outputs": [],
   "source": [
    "df= df[df['quantity_tons']<6.5]"
   ]
  },
  {
   "cell_type": "code",
   "execution_count": 410,
   "metadata": {},
   "outputs": [
    {
     "data": {
      "image/png": "[encoded data removed]",
      "text/plain": [
       "<Figure size 640x480 with 1 Axes>"
      ]
     },
     "metadata": {},
     "output_type": "display_data"
    }
   ],
   "source": [
    "sns.boxplot(x=df['quantity_tons'],data=df)\n",
    "plt.show()"
   ]
  },
  {
   "cell_type": "code",
   "execution_count": 411,
   "metadata": {},
   "outputs": [
    {
     "name": "stdout",
     "output_type": "stream",
     "text": [
      "1175.0 1500.0 325.0\n"
     ]
    }
   ],
   "source": [
    "q1 = df['width'].quantile(0.25)\n",
    "q3 = df['width'].quantile(0.75)\n",
    "iqr = q3-q1\n",
    "print(q1,q3,iqr)\n"
   ]
  },
  {
   "cell_type": "code",
   "execution_count": 412,
   "metadata": {},
   "outputs": [
    {
     "name": "stdout",
     "output_type": "stream",
     "text": [
      "687.5 1987.5\n"
     ]
    }
   ],
   "source": [
    "lf = q1 - 1.5*iqr\n",
    "uf = q3 + 1.5*iqr\n",
    "print(lf,uf)"
   ]
  },
  {
   "cell_type": "code",
   "execution_count": 413,
   "metadata": {},
   "outputs": [
    {
     "data": {
      "image/png": "[encoded data removed]",
      "text/plain": [
       "<Figure size 640x480 with 1 Axes>"
      ]
     },
     "metadata": {},
     "output_type": "display_data"
    }
   ],
   "source": [
    "sns.boxplot(x=df['width'],data=df)\n",
    "plt.show()"
   ]
  },
  {
   "cell_type": "code",
   "execution_count": 414,
   "metadata": {},
   "outputs": [],
   "source": [
    "df = df[(df['width']>lf) & (df['width']<uf)]"
   ]
  },
  {
   "cell_type": "code",
   "execution_count": 415,
   "metadata": {},
   "outputs": [
    {
     "data": {
      "image/png": "[encoded data removed]",
      "text/plain": [
       "<Figure size 640x480 with 1 Axes>"
      ]
     },
     "metadata": {},
     "output_type": "display_data"
    }
   ],
   "source": [
    "sns.boxplot(x=df['width'],data=df)\n",
    "plt.show()"
   ]
  },
  {
   "cell_type": "code",
   "execution_count": 416,
   "metadata": {},
   "outputs": [],
   "source": [
    "df = df[(df['width']>800) & (df['width']<1800)]"
   ]
  },
  {
   "cell_type": "code",
   "execution_count": 417,
   "metadata": {},
   "outputs": [
    {
     "data": {
      "image/png": "[encoded data removed]",
      "text/plain": [
       "<Figure size 640x480 with 1 Axes>"
      ]
     },
     "metadata": {},
     "output_type": "display_data"
    }
   ],
   "source": [
    "sns.boxplot(x=df['width'],data=df)\n",
    "plt.show()"
   ]
  },
  {
   "cell_type": "code",
   "execution_count": 418,
   "metadata": {},
   "outputs": [
    {
     "data": {
      "text/html": [
       "<div>\n",
       "<style scoped>\n",
       "    .dataframe tbody tr th:only-of-type {\n",
       "        vertical-align: middle;\n",
       "    }\n",
       "\n",
       "    .dataframe tbody tr th {\n",
       "        vertical-align: top;\n",
       "    }\n",
       "\n",
       "    .dataframe thead th {\n",
       "        text-align: right;\n",
       "    }\n",
       "</style>\n",
       "<table border=\"1\" class=\"dataframe\">\n",
       "  <thead>\n",
       "    <tr style=\"text-align: right;\">\n",
       "      <th></th>\n",
       "      <th>item_date</th>\n",
       "      <th>quantity_tons</th>\n",
       "      <th>customer</th>\n",
       "      <th>country</th>\n",
       "      <th>status</th>\n",
       "      <th>item_type</th>\n",
       "      <th>application</th>\n",
       "      <th>thickness</th>\n",
       "      <th>width</th>\n",
       "      <th>product_ref</th>\n",
       "      <th>delivery_date</th>\n",
       "      <th>selling_price</th>\n",
       "    </tr>\n",
       "  </thead>\n",
       "  <tbody>\n",
       "    <tr>\n",
       "      <th>0</th>\n",
       "      <td>2021-04-01</td>\n",
       "      <td>4.010077</td>\n",
       "      <td>30156308.0</td>\n",
       "      <td>28.0</td>\n",
       "      <td>Won</td>\n",
       "      <td>W</td>\n",
       "      <td>10.0</td>\n",
       "      <td>1.098612</td>\n",
       "      <td>1500.0</td>\n",
       "      <td>1670798778</td>\n",
       "      <td>2021-07-01</td>\n",
       "      <td>854.00</td>\n",
       "    </tr>\n",
       "    <tr>\n",
       "      <th>2</th>\n",
       "      <td>2021-04-01</td>\n",
       "      <td>5.958755</td>\n",
       "      <td>30153963.0</td>\n",
       "      <td>30.0</td>\n",
       "      <td>Won</td>\n",
       "      <td>WI</td>\n",
       "      <td>28.0</td>\n",
       "      <td>0.322083</td>\n",
       "      <td>952.0</td>\n",
       "      <td>628377</td>\n",
       "      <td>2021-01-01</td>\n",
       "      <td>644.33</td>\n",
       "    </tr>\n",
       "  </tbody>\n",
       "</table>\n",
       "</div>"
      ],
      "text/plain": [
       "   item_date  quantity_tons    customer  country status item_type  \\\n",
       "0 2021-04-01       4.010077  30156308.0     28.0    Won         W   \n",
       "2 2021-04-01       5.958755  30153963.0     30.0    Won        WI   \n",
       "\n",
       "   application  thickness   width  product_ref delivery_date  selling_price  \n",
       "0         10.0   1.098612  1500.0   1670798778    2021-07-01         854.00  \n",
       "2         28.0   0.322083   952.0       628377    2021-01-01         644.33  "
      ]
     },
     "execution_count": 418,
     "metadata": {},
     "output_type": "execute_result"
    }
   ],
   "source": [
    "df.head(2)"
   ]
  },
  {
   "cell_type": "code",
   "execution_count": 419,
   "metadata": {},
   "outputs": [
    {
     "name": "stdout",
     "output_type": "stream",
     "text": [
      "678.0 964.0 286.0\n"
     ]
    }
   ],
   "source": [
    "q1 = df['selling_price'].quantile(0.25)\n",
    "q3 = df['selling_price'].quantile(0.75)\n",
    "iqr = q3-q1\n",
    "print(q1,q3,iqr)\n"
   ]
  },
  {
   "cell_type": "code",
   "execution_count": 420,
   "metadata": {},
   "outputs": [
    {
     "name": "stdout",
     "output_type": "stream",
     "text": [
      "249.0 1393.0\n"
     ]
    }
   ],
   "source": [
    "lf = q1 - 1.5*iqr\n",
    "uf = q3 + 1.5*iqr\n",
    "print(lf,uf)"
   ]
  },
  {
   "cell_type": "code",
   "execution_count": 421,
   "metadata": {},
   "outputs": [
    {
     "data": {
      "image/png": "[encoded data removed]",
      "text/plain": [
       "<Figure size 640x480 with 1 Axes>"
      ]
     },
     "metadata": {},
     "output_type": "display_data"
    }
   ],
   "source": [
    "sns.boxplot(x=df['selling_price'],data=df)\n",
    "plt.show()"
   ]
  },
  {
   "cell_type": "code",
   "execution_count": 422,
   "metadata": {},
   "outputs": [],
   "source": [
    "df= df[(df['selling_price']>lf) & (df['selling_price']<uf)]"
   ]
  },
  {
   "cell_type": "code",
   "execution_count": 423,
   "metadata": {},
   "outputs": [
    {
     "data": {
      "image/png": "[encoded data removed]",
      "text/plain": [
       "<Figure size 640x480 with 1 Axes>"
      ]
     },
     "metadata": {},
     "output_type": "display_data"
    }
   ],
   "source": [
    "sns.boxplot(x=df['selling_price'],data=df)\n",
    "plt.show()"
   ]
  },
  {
   "cell_type": "code",
   "execution_count": 424,
   "metadata": {},
   "outputs": [],
   "source": [
    "df = df[(df['selling_price']>400) & (df['selling_price']<1300)]"
   ]
  },
  {
   "cell_type": "code",
   "execution_count": 425,
   "metadata": {},
   "outputs": [
    {
     "data": {
      "image/png": "[encoded data removed]",
      "text/plain": [
       "<Figure size 640x480 with 1 Axes>"
      ]
     },
     "metadata": {},
     "output_type": "display_data"
    }
   ],
   "source": [
    "sns.boxplot(x=df['selling_price'],data=df)\n",
    "plt.show()"
   ]
  },
  {
   "cell_type": "code",
   "execution_count": 426,
   "metadata": {},
   "outputs": [
    {
     "data": {
      "image/png": "[encoded data removed]",
      "text/plain": [
       "<Figure size 640x480 with 1 Axes>"
      ]
     },
     "metadata": {},
     "output_type": "display_data"
    }
   ],
   "source": [
    "sns.boxplot(x=df['customer'],data=df)\n",
    "plt.show()"
   ]
  },
  {
   "cell_type": "code",
   "execution_count": 427,
   "metadata": {},
   "outputs": [
    {
     "name": "stdout",
     "output_type": "stream",
     "text": [
      "30166282.0 30272650.0 106368.0\n"
     ]
    }
   ],
   "source": [
    "q1 = df['customer'].quantile(0.25)\n",
    "q3 = df['customer'].quantile(0.75)\n",
    "iqr = q3-q1\n",
    "print(q1,q3,iqr)\n"
   ]
  },
  {
   "cell_type": "code",
   "execution_count": 428,
   "metadata": {},
   "outputs": [
    {
     "name": "stdout",
     "output_type": "stream",
     "text": [
      "30006730.0 30432202.0\n"
     ]
    }
   ],
   "source": [
    "lf = q1 - 1.5*iqr\n",
    "uf = q3 + 1.5*iqr\n",
    "print(lf,uf)"
   ]
  },
  {
   "cell_type": "code",
   "execution_count": 429,
   "metadata": {},
   "outputs": [],
   "source": [
    "df = df[(df['customer']>lf) & (df['customer']<uf)]"
   ]
  },
  {
   "cell_type": "code",
   "execution_count": 430,
   "metadata": {},
   "outputs": [
    {
     "data": {
      "image/png": "[encoded data removed]",
      "text/plain": [
       "<Figure size 640x480 with 1 Axes>"
      ]
     },
     "metadata": {},
     "output_type": "display_data"
    }
   ],
   "source": [
    "sns.boxplot(x=df['customer'],data=df)\n",
    "plt.show()"
   ]
  },
  {
   "cell_type": "code",
   "execution_count": 431,
   "metadata": {},
   "outputs": [
    {
     "data": {
      "image/png": "[encoded data removed]",
      "text/plain": [
       "<Figure size 640x480 with 1 Axes>"
      ]
     },
     "metadata": {},
     "output_type": "display_data"
    }
   ],
   "source": [
    "sns.boxplot(x=df['country'],data=df)\n",
    "plt.show()"
   ]
  },
  {
   "cell_type": "code",
   "execution_count": 432,
   "metadata": {},
   "outputs": [
    {
     "name": "stdout",
     "output_type": "stream",
     "text": [
      "26.0 78.0 52.0\n"
     ]
    }
   ],
   "source": [
    "q1 = df['country'].quantile(0.25)\n",
    "q3 = df['country'].quantile(0.75)\n",
    "iqr = q3-q1\n",
    "print(q1,q3,iqr)\n"
   ]
  },
  {
   "cell_type": "code",
   "execution_count": 433,
   "metadata": {},
   "outputs": [
    {
     "name": "stdout",
     "output_type": "stream",
     "text": [
      "-52.0 156.0\n"
     ]
    }
   ],
   "source": [
    "lf = q1 - 1.5*iqr\n",
    "uf = q3 + 1.5*iqr\n",
    "print(lf,uf)"
   ]
  },
  {
   "cell_type": "code",
   "execution_count": 434,
   "metadata": {},
   "outputs": [],
   "source": [
    "df= df[(df['country']>lf) & (df['country']<uf)]"
   ]
  },
  {
   "cell_type": "code",
   "execution_count": 435,
   "metadata": {},
   "outputs": [
    {
     "data": {
      "image/png": "[encoded data removed]",
      "text/plain": [
       "<Figure size 640x480 with 1 Axes>"
      ]
     },
     "metadata": {},
     "output_type": "display_data"
    }
   ],
   "source": [
    "sns.boxplot(x=df['country'],data=df)\n",
    "plt.show()"
   ]
  },
  {
   "cell_type": "code",
   "execution_count": 436,
   "metadata": {},
   "outputs": [
    {
     "data": {
      "image/png": "[encoded data removed]",
      "text/plain": [
       "<Figure size 1500x800 with 8 Axes>"
      ]
     },
     "metadata": {},
     "output_type": "display_data"
    }
   ],
   "source": [
    "plt.figure(figsize=(15, 8))\n",
    "for i, col in enumerate(num_cols, 1):\n",
    "    plt.subplot(2, 4, i)\n",
    "    sns.boxplot(y=df[col])\n",
    "    plt.title(col)\n",
    "plt.tight_layout()\n",
    "plt.show()"
   ]
  },
  {
   "cell_type": "markdown",
   "metadata": {},
   "source": [
    "# Label Encoding \n"
   ]
  },
  {
   "cell_type": "code",
   "execution_count": 438,
   "metadata": {},
   "outputs": [
    {
     "data": {
      "text/html": [
       "<div>\n",
       "<style scoped>\n",
       "    .dataframe tbody tr th:only-of-type {\n",
       "        vertical-align: middle;\n",
       "    }\n",
       "\n",
       "    .dataframe tbody tr th {\n",
       "        vertical-align: top;\n",
       "    }\n",
       "\n",
       "    .dataframe thead th {\n",
       "        text-align: right;\n",
       "    }\n",
       "</style>\n",
       "<table border=\"1\" class=\"dataframe\">\n",
       "  <thead>\n",
       "    <tr style=\"text-align: right;\">\n",
       "      <th></th>\n",
       "      <th>status</th>\n",
       "      <th>item_type</th>\n",
       "    </tr>\n",
       "  </thead>\n",
       "  <tbody>\n",
       "    <tr>\n",
       "      <th>0</th>\n",
       "      <td>Won</td>\n",
       "      <td>W</td>\n",
       "    </tr>\n",
       "    <tr>\n",
       "      <th>2</th>\n",
       "      <td>Won</td>\n",
       "      <td>WI</td>\n",
       "    </tr>\n",
       "    <tr>\n",
       "      <th>3</th>\n",
       "      <td>Won</td>\n",
       "      <td>S</td>\n",
       "    </tr>\n",
       "    <tr>\n",
       "      <th>5</th>\n",
       "      <td>Won</td>\n",
       "      <td>W</td>\n",
       "    </tr>\n",
       "    <tr>\n",
       "      <th>7</th>\n",
       "      <td>Won</td>\n",
       "      <td>W</td>\n",
       "    </tr>\n",
       "    <tr>\n",
       "      <th>...</th>\n",
       "      <td>...</td>\n",
       "      <td>...</td>\n",
       "    </tr>\n",
       "    <tr>\n",
       "      <th>181667</th>\n",
       "      <td>Won</td>\n",
       "      <td>W</td>\n",
       "    </tr>\n",
       "    <tr>\n",
       "      <th>181668</th>\n",
       "      <td>Won</td>\n",
       "      <td>W</td>\n",
       "    </tr>\n",
       "    <tr>\n",
       "      <th>181669</th>\n",
       "      <td>Won</td>\n",
       "      <td>W</td>\n",
       "    </tr>\n",
       "    <tr>\n",
       "      <th>181670</th>\n",
       "      <td>Won</td>\n",
       "      <td>W</td>\n",
       "    </tr>\n",
       "    <tr>\n",
       "      <th>181672</th>\n",
       "      <td>Won</td>\n",
       "      <td>W</td>\n",
       "    </tr>\n",
       "  </tbody>\n",
       "</table>\n",
       "<p>156362 rows × 2 columns</p>\n",
       "</div>"
      ],
      "text/plain": [
       "       status item_type\n",
       "0         Won         W\n",
       "2         Won        WI\n",
       "3         Won         S\n",
       "5         Won         W\n",
       "7         Won         W\n",
       "...       ...       ...\n",
       "181667    Won         W\n",
       "181668    Won         W\n",
       "181669    Won         W\n",
       "181670    Won         W\n",
       "181672    Won         W\n",
       "\n",
       "[156362 rows x 2 columns]"
      ]
     },
     "execution_count": 438,
     "metadata": {},
     "output_type": "execute_result"
    }
   ],
   "source": [
    "cat_cols = df.select_dtypes(object)\n",
    "cat_cols"
   ]
  },
  {
   "cell_type": "code",
   "execution_count": 439,
   "metadata": {},
   "outputs": [
    {
     "data": {
      "text/plain": [
       "array(['Won', 'To be approved', 'Lost', 'Not lost for AM', 'Wonderful',\n",
       "       'Revised', 'Offered', 'Offerable'], dtype=object)"
      ]
     },
     "execution_count": 439,
     "metadata": {},
     "output_type": "execute_result"
    }
   ],
   "source": [
    "df['status'].unique()"
   ]
  },
  {
   "cell_type": "code",
   "execution_count": 440,
   "metadata": {},
   "outputs": [],
   "source": [
    "df['status'] = df['status'].str.lower()"
   ]
  },
  {
   "cell_type": "code",
   "execution_count": 441,
   "metadata": {},
   "outputs": [],
   "source": [
    "df['status'] = df['status'].str.strip()"
   ]
  },
  {
   "cell_type": "code",
   "execution_count": 442,
   "metadata": {},
   "outputs": [
    {
     "data": {
      "text/plain": [
       "array(['won', 'to be approved', 'lost', 'not lost for am', 'wonderful',\n",
       "       'revised', 'offered', 'offerable'], dtype=object)"
      ]
     },
     "execution_count": 442,
     "metadata": {},
     "output_type": "execute_result"
    }
   ],
   "source": [
    "df['status'].unique()"
   ]
  },
  {
   "cell_type": "code",
   "execution_count": 443,
   "metadata": {},
   "outputs": [
    {
     "data": {
      "text/plain": [
       "array(['W', 'WI', 'S', 'Others', 'PL', 'IPL', 'SLAWR'], dtype=object)"
      ]
     },
     "execution_count": 443,
     "metadata": {},
     "output_type": "execute_result"
    }
   ],
   "source": [
    "df['item_type'].unique()"
   ]
  },
  {
   "cell_type": "code",
   "execution_count": 444,
   "metadata": {},
   "outputs": [
    {
     "data": {
      "text/html": [
       "<div>\n",
       "<style scoped>\n",
       "    .dataframe tbody tr th:only-of-type {\n",
       "        vertical-align: middle;\n",
       "    }\n",
       "\n",
       "    .dataframe tbody tr th {\n",
       "        vertical-align: top;\n",
       "    }\n",
       "\n",
       "    .dataframe thead th {\n",
       "        text-align: right;\n",
       "    }\n",
       "</style>\n",
       "<table border=\"1\" class=\"dataframe\">\n",
       "  <thead>\n",
       "    <tr style=\"text-align: right;\">\n",
       "      <th></th>\n",
       "      <th>item_date</th>\n",
       "      <th>quantity_tons</th>\n",
       "      <th>customer</th>\n",
       "      <th>country</th>\n",
       "      <th>status</th>\n",
       "      <th>item_type</th>\n",
       "      <th>application</th>\n",
       "      <th>thickness</th>\n",
       "      <th>width</th>\n",
       "      <th>product_ref</th>\n",
       "      <th>delivery_date</th>\n",
       "      <th>selling_price</th>\n",
       "    </tr>\n",
       "  </thead>\n",
       "  <tbody>\n",
       "    <tr>\n",
       "      <th>0</th>\n",
       "      <td>2021-04-01</td>\n",
       "      <td>4.010077</td>\n",
       "      <td>30156308.0</td>\n",
       "      <td>28.0</td>\n",
       "      <td>won</td>\n",
       "      <td>W</td>\n",
       "      <td>10.0</td>\n",
       "      <td>1.098612</td>\n",
       "      <td>1500.0</td>\n",
       "      <td>1670798778</td>\n",
       "      <td>2021-07-01</td>\n",
       "      <td>854.00</td>\n",
       "    </tr>\n",
       "    <tr>\n",
       "      <th>2</th>\n",
       "      <td>2021-04-01</td>\n",
       "      <td>5.958755</td>\n",
       "      <td>30153963.0</td>\n",
       "      <td>30.0</td>\n",
       "      <td>won</td>\n",
       "      <td>WI</td>\n",
       "      <td>28.0</td>\n",
       "      <td>0.322083</td>\n",
       "      <td>952.0</td>\n",
       "      <td>628377</td>\n",
       "      <td>2021-01-01</td>\n",
       "      <td>644.33</td>\n",
       "    </tr>\n",
       "  </tbody>\n",
       "</table>\n",
       "</div>"
      ],
      "text/plain": [
       "   item_date  quantity_tons    customer  country status item_type  \\\n",
       "0 2021-04-01       4.010077  30156308.0     28.0    won         W   \n",
       "2 2021-04-01       5.958755  30153963.0     30.0    won        WI   \n",
       "\n",
       "   application  thickness   width  product_ref delivery_date  selling_price  \n",
       "0         10.0   1.098612  1500.0   1670798778    2021-07-01         854.00  \n",
       "2         28.0   0.322083   952.0       628377    2021-01-01         644.33  "
      ]
     },
     "execution_count": 444,
     "metadata": {},
     "output_type": "execute_result"
    }
   ],
   "source": [
    "df.head(2)"
   ]
  },
  {
   "cell_type": "code",
   "execution_count": 445,
   "metadata": {},
   "outputs": [],
   "source": [
    "df['status'] = df['status'].map({'lost':0, 'won':1, 'draft':2, 'to be approved':3, 'not lost for am':4,'wonderful':5, 'revised':6,\n",
    "                          'offered':7, 'offerable':8})"
   ]
  },
  {
   "cell_type": "code",
   "execution_count": 446,
   "metadata": {},
   "outputs": [
    {
     "data": {
      "text/plain": [
       "array([1, 3, 0, 4, 5, 6, 7, 8], dtype=int64)"
      ]
     },
     "execution_count": 446,
     "metadata": {},
     "output_type": "execute_result"
    }
   ],
   "source": [
    "df['status'].unique()"
   ]
  },
  {
   "cell_type": "code",
   "execution_count": 447,
   "metadata": {},
   "outputs": [
    {
     "data": {
      "text/plain": [
       "array(['W', 'WI', 'S', 'Others', 'PL', 'IPL', 'SLAWR'], dtype=object)"
      ]
     },
     "execution_count": 447,
     "metadata": {},
     "output_type": "execute_result"
    }
   ],
   "source": [
    "df['item_type'].unique()"
   ]
  },
  {
   "cell_type": "code",
   "execution_count": 448,
   "metadata": {},
   "outputs": [],
   "source": [
    "df['item_type'] = df['item_type'].map({'W':5.0, 'WI':6.0, 'S':3.0, 'Others':1.0, 'PL':2.0, 'IPL':0.0, 'SLAWR':4.0})"
   ]
  },
  {
   "cell_type": "code",
   "execution_count": 449,
   "metadata": {},
   "outputs": [
    {
     "data": {
      "text/plain": [
       "array([5., 6., 3., 1., 2., 0., 4.])"
      ]
     },
     "execution_count": 449,
     "metadata": {},
     "output_type": "execute_result"
    }
   ],
   "source": [
    "df['item_type'].unique()"
   ]
  },
  {
   "cell_type": "code",
   "execution_count": 450,
   "metadata": {},
   "outputs": [
    {
     "data": {
      "text/html": [
       "<div>\n",
       "<style scoped>\n",
       "    .dataframe tbody tr th:only-of-type {\n",
       "        vertical-align: middle;\n",
       "    }\n",
       "\n",
       "    .dataframe tbody tr th {\n",
       "        vertical-align: top;\n",
       "    }\n",
       "\n",
       "    .dataframe thead th {\n",
       "        text-align: right;\n",
       "    }\n",
       "</style>\n",
       "<table border=\"1\" class=\"dataframe\">\n",
       "  <thead>\n",
       "    <tr style=\"text-align: right;\">\n",
       "      <th></th>\n",
       "      <th>item_date</th>\n",
       "      <th>quantity_tons</th>\n",
       "      <th>customer</th>\n",
       "      <th>country</th>\n",
       "      <th>status</th>\n",
       "      <th>item_type</th>\n",
       "      <th>application</th>\n",
       "      <th>thickness</th>\n",
       "      <th>width</th>\n",
       "      <th>product_ref</th>\n",
       "      <th>delivery_date</th>\n",
       "      <th>selling_price</th>\n",
       "    </tr>\n",
       "  </thead>\n",
       "  <tbody>\n",
       "    <tr>\n",
       "      <th>0</th>\n",
       "      <td>2021-04-01</td>\n",
       "      <td>4.010077</td>\n",
       "      <td>30156308.0</td>\n",
       "      <td>28.0</td>\n",
       "      <td>1</td>\n",
       "      <td>5.0</td>\n",
       "      <td>10.0</td>\n",
       "      <td>1.098612</td>\n",
       "      <td>1500.0</td>\n",
       "      <td>1670798778</td>\n",
       "      <td>2021-07-01</td>\n",
       "      <td>854.00</td>\n",
       "    </tr>\n",
       "    <tr>\n",
       "      <th>2</th>\n",
       "      <td>2021-04-01</td>\n",
       "      <td>5.958755</td>\n",
       "      <td>30153963.0</td>\n",
       "      <td>30.0</td>\n",
       "      <td>1</td>\n",
       "      <td>6.0</td>\n",
       "      <td>28.0</td>\n",
       "      <td>0.322083</td>\n",
       "      <td>952.0</td>\n",
       "      <td>628377</td>\n",
       "      <td>2021-01-01</td>\n",
       "      <td>644.33</td>\n",
       "    </tr>\n",
       "  </tbody>\n",
       "</table>\n",
       "</div>"
      ],
      "text/plain": [
       "   item_date  quantity_tons    customer  country  status  item_type  \\\n",
       "0 2021-04-01       4.010077  30156308.0     28.0       1        5.0   \n",
       "2 2021-04-01       5.958755  30153963.0     30.0       1        6.0   \n",
       "\n",
       "   application  thickness   width  product_ref delivery_date  selling_price  \n",
       "0         10.0   1.098612  1500.0   1670798778    2021-07-01         854.00  \n",
       "2         28.0   0.322083   952.0       628377    2021-01-01         644.33  "
      ]
     },
     "execution_count": 450,
     "metadata": {},
     "output_type": "execute_result"
    }
   ],
   "source": [
    "df.head(2)"
   ]
  },
  {
   "cell_type": "markdown",
   "metadata": {},
   "source": [
    "## Feature Engineering : - Creation of new feature - Lead time "
   ]
  },
  {
   "cell_type": "code",
   "execution_count": 451,
   "metadata": {},
   "outputs": [],
   "source": [
    "df['lead_time'] = (df['delivery_date'] - df['item_date']).dt.days"
   ]
  },
  {
   "cell_type": "code",
   "execution_count": 452,
   "metadata": {},
   "outputs": [
    {
     "data": {
      "text/html": [
       "<div>\n",
       "<style scoped>\n",
       "    .dataframe tbody tr th:only-of-type {\n",
       "        vertical-align: middle;\n",
       "    }\n",
       "\n",
       "    .dataframe tbody tr th {\n",
       "        vertical-align: top;\n",
       "    }\n",
       "\n",
       "    .dataframe thead th {\n",
       "        text-align: right;\n",
       "    }\n",
       "</style>\n",
       "<table border=\"1\" class=\"dataframe\">\n",
       "  <thead>\n",
       "    <tr style=\"text-align: right;\">\n",
       "      <th></th>\n",
       "      <th>item_date</th>\n",
       "      <th>quantity_tons</th>\n",
       "      <th>customer</th>\n",
       "      <th>country</th>\n",
       "      <th>status</th>\n",
       "      <th>item_type</th>\n",
       "      <th>application</th>\n",
       "      <th>thickness</th>\n",
       "      <th>width</th>\n",
       "      <th>product_ref</th>\n",
       "      <th>delivery_date</th>\n",
       "      <th>selling_price</th>\n",
       "      <th>lead_time</th>\n",
       "    </tr>\n",
       "  </thead>\n",
       "  <tbody>\n",
       "    <tr>\n",
       "      <th>0</th>\n",
       "      <td>2021-04-01</td>\n",
       "      <td>4.010077</td>\n",
       "      <td>30156308.0</td>\n",
       "      <td>28.0</td>\n",
       "      <td>1</td>\n",
       "      <td>5.0</td>\n",
       "      <td>10.0</td>\n",
       "      <td>1.098612</td>\n",
       "      <td>1500.0</td>\n",
       "      <td>1670798778</td>\n",
       "      <td>2021-07-01</td>\n",
       "      <td>854.00</td>\n",
       "      <td>91</td>\n",
       "    </tr>\n",
       "    <tr>\n",
       "      <th>2</th>\n",
       "      <td>2021-04-01</td>\n",
       "      <td>5.958755</td>\n",
       "      <td>30153963.0</td>\n",
       "      <td>30.0</td>\n",
       "      <td>1</td>\n",
       "      <td>6.0</td>\n",
       "      <td>28.0</td>\n",
       "      <td>0.322083</td>\n",
       "      <td>952.0</td>\n",
       "      <td>628377</td>\n",
       "      <td>2021-01-01</td>\n",
       "      <td>644.33</td>\n",
       "      <td>-90</td>\n",
       "    </tr>\n",
       "  </tbody>\n",
       "</table>\n",
       "</div>"
      ],
      "text/plain": [
       "   item_date  quantity_tons    customer  country  status  item_type  \\\n",
       "0 2021-04-01       4.010077  30156308.0     28.0       1        5.0   \n",
       "2 2021-04-01       5.958755  30153963.0     30.0       1        6.0   \n",
       "\n",
       "   application  thickness   width  product_ref delivery_date  selling_price  \\\n",
       "0         10.0   1.098612  1500.0   1670798778    2021-07-01         854.00   \n",
       "2         28.0   0.322083   952.0       628377    2021-01-01         644.33   \n",
       "\n",
       "   lead_time  \n",
       "0         91  \n",
       "2        -90  "
      ]
     },
     "execution_count": 452,
     "metadata": {},
     "output_type": "execute_result"
    }
   ],
   "source": [
    "df.head(2)"
   ]
  },
  {
   "cell_type": "markdown",
   "metadata": {},
   "source": [
    "# Selling Price Prediction\n"
   ]
  },
  {
   "cell_type": "code",
   "execution_count": 459,
   "metadata": {},
   "outputs": [
    {
     "name": "stdout",
     "output_type": "stream",
     "text": [
      "Train MSE : 22242.42398605644\n",
      "Test MSE : 22337.205927391922\n",
      "Coeff:[-8.66317576e+00  8.01864436e-05  1.20384148e-01  3.16272518e-01\n",
      "  1.45364642e+01  1.39115641e+00 -1.48771182e+02  1.59694608e-02\n",
      " -1.39137571e-09  1.57921042e+00]\n"
     ]
    }
   ],
   "source": [
    "\n",
    "X = df.drop(['item_date','delivery_date','selling_price'],axis=1)\n",
    "y= df['selling_price']\n",
    "\n",
    "\n",
    "x_train,x_test,y_train,y_test = train_test_split(X,y,test_size = 0.2)\n",
    "\n",
    "model_r = LinearRegression()\n",
    "\n",
    "model_r.fit (x_train,y_train)\n",
    "\n",
    "train_pred = model_r.predict(x_train)\n",
    "test_pred = model_r.predict(x_test)\n",
    "\n",
    "print(f\"Train MSE : {mean_squared_error(y_train,train_pred)}\")\n",
    "print(f\"Test MSE : {mean_squared_error(y_test,test_pred)}\")\n",
    "print(f\"Coeff:{model_r.coef_}\")"
   ]
  },
  {
   "cell_type": "code",
   "execution_count": 460,
   "metadata": {},
   "outputs": [
    {
     "name": "stdout",
     "output_type": "stream",
     "text": [
      "Train MSE : 22221.894421464836\n",
      "Test MSE : 22441.071314800258\n",
      "Coeff:[-8.60995129e+00  7.52186795e-05  1.27413545e-01  0.00000000e+00\n",
      "  1.34556534e+01  1.40025907e+00 -1.45506850e+02  1.21854084e-02\n",
      " -2.09714120e-09  1.58338998e+00]\n"
     ]
    },
    {
     "data": {
      "text/html": [
       "<div>\n",
       "<style scoped>\n",
       "    .dataframe tbody tr th:only-of-type {\n",
       "        vertical-align: middle;\n",
       "    }\n",
       "\n",
       "    .dataframe tbody tr th {\n",
       "        vertical-align: top;\n",
       "    }\n",
       "\n",
       "    .dataframe thead th {\n",
       "        text-align: right;\n",
       "    }\n",
       "</style>\n",
       "<table border=\"1\" class=\"dataframe\">\n",
       "  <thead>\n",
       "    <tr style=\"text-align: right;\">\n",
       "      <th></th>\n",
       "      <th>item_date</th>\n",
       "      <th>quantity_tons</th>\n",
       "      <th>customer</th>\n",
       "      <th>country</th>\n",
       "      <th>status</th>\n",
       "      <th>item_type</th>\n",
       "      <th>application</th>\n",
       "      <th>thickness</th>\n",
       "      <th>width</th>\n",
       "      <th>product_ref</th>\n",
       "      <th>delivery_date</th>\n",
       "      <th>selling_price</th>\n",
       "      <th>lead_time</th>\n",
       "    </tr>\n",
       "  </thead>\n",
       "  <tbody>\n",
       "    <tr>\n",
       "      <th>0</th>\n",
       "      <td>2021-04-01</td>\n",
       "      <td>4.010077</td>\n",
       "      <td>30156308.0</td>\n",
       "      <td>28.0</td>\n",
       "      <td>1</td>\n",
       "      <td>5.0</td>\n",
       "      <td>10.0</td>\n",
       "      <td>1.098612</td>\n",
       "      <td>1500.0</td>\n",
       "      <td>1670798778</td>\n",
       "      <td>2021-07-01</td>\n",
       "      <td>854.00</td>\n",
       "      <td>91</td>\n",
       "    </tr>\n",
       "    <tr>\n",
       "      <th>2</th>\n",
       "      <td>2021-04-01</td>\n",
       "      <td>5.958755</td>\n",
       "      <td>30153963.0</td>\n",
       "      <td>30.0</td>\n",
       "      <td>1</td>\n",
       "      <td>6.0</td>\n",
       "      <td>28.0</td>\n",
       "      <td>0.322083</td>\n",
       "      <td>952.0</td>\n",
       "      <td>628377</td>\n",
       "      <td>2021-01-01</td>\n",
       "      <td>644.33</td>\n",
       "      <td>-90</td>\n",
       "    </tr>\n",
       "  </tbody>\n",
       "</table>\n",
       "</div>"
      ],
      "text/plain": [
       "   item_date  quantity_tons    customer  country  status  item_type  \\\n",
       "0 2021-04-01       4.010077  30156308.0     28.0       1        5.0   \n",
       "2 2021-04-01       5.958755  30153963.0     30.0       1        6.0   \n",
       "\n",
       "   application  thickness   width  product_ref delivery_date  selling_price  \\\n",
       "0         10.0   1.098612  1500.0   1670798778    2021-07-01         854.00   \n",
       "2         28.0   0.322083   952.0       628377    2021-01-01         644.33   \n",
       "\n",
       "   lead_time  \n",
       "0         91  \n",
       "2        -90  "
      ]
     },
     "execution_count": 460,
     "metadata": {},
     "output_type": "execute_result"
    }
   ],
   "source": [
    "\n",
    "X = df.drop(['item_date','delivery_date','selling_price'],axis=1)\n",
    "y= df['selling_price']\n",
    "\n",
    "\n",
    "x_train,x_test,y_train,y_test = train_test_split(X,y,test_size = 0.2)\n",
    "\n",
    "model_r = Lasso()\n",
    "\n",
    "model_r.fit (x_train,y_train)\n",
    "#df['pred'] = model_r.predict(X)\n",
    "\n",
    "\n",
    "train_pred = model_r.predict(x_train)\n",
    "test_pred = model_r.predict(x_test)\n",
    "\n",
    "print(f\"Train MSE : {mean_squared_error(y_train,train_pred)}\")\n",
    "print(f\"Test MSE : {mean_squared_error(y_test,test_pred)}\")\n",
    "print(f\"Coeff:{model_r.coef_}\")\n",
    "df.head(2)"
   ]
  },
  {
   "cell_type": "code",
   "execution_count": 461,
   "metadata": {},
   "outputs": [
    {
     "name": "stdout",
     "output_type": "stream",
     "text": [
      "Train MSE : 22281.827723393722\n",
      "Test MSE : 22178.647218777525\n",
      "Coeff:[-8.66179896e+00  8.21018031e-05  1.03527779e-01  2.25815076e-01\n",
      "  1.44836096e+01  1.37204554e+00 -1.49118898e+02  1.68783681e-02\n",
      " -1.60282578e-09  1.58408654e+00]\n"
     ]
    }
   ],
   "source": [
    "\n",
    "X = df.drop(['item_date','delivery_date','selling_price'],axis=1)\n",
    "y= df['selling_price']\n",
    "\n",
    "\n",
    "x_train,x_test,y_train,y_test = train_test_split(X,y,test_size = 0.2)\n",
    "\n",
    "model_r = Ridge()\n",
    "\n",
    "model_r.fit (x_train,y_train)\n",
    "\n",
    "train_pred = model_r.predict(x_train)\n",
    "test_pred = model_r.predict(x_test)\n",
    "\n",
    "print(f\"Train MSE : {mean_squared_error(y_train,train_pred)}\")\n",
    "print(f\"Test MSE : {mean_squared_error(y_test,test_pred)}\")\n",
    "print(f\"Coeff:{model_r.coef_}\")\n"
   ]
  },
  {
   "cell_type": "code",
   "execution_count": 463,
   "metadata": {},
   "outputs": [
    {
     "data": {
      "text/html": [
       "<div>\n",
       "<style scoped>\n",
       "    .dataframe tbody tr th:only-of-type {\n",
       "        vertical-align: middle;\n",
       "    }\n",
       "\n",
       "    .dataframe tbody tr th {\n",
       "        vertical-align: top;\n",
       "    }\n",
       "\n",
       "    .dataframe thead th {\n",
       "        text-align: right;\n",
       "    }\n",
       "</style>\n",
       "<table border=\"1\" class=\"dataframe\">\n",
       "  <thead>\n",
       "    <tr style=\"text-align: right;\">\n",
       "      <th></th>\n",
       "      <th>item_date</th>\n",
       "      <th>quantity_tons</th>\n",
       "      <th>customer</th>\n",
       "      <th>country</th>\n",
       "      <th>status</th>\n",
       "      <th>item_type</th>\n",
       "      <th>application</th>\n",
       "      <th>thickness</th>\n",
       "      <th>width</th>\n",
       "      <th>product_ref</th>\n",
       "      <th>delivery_date</th>\n",
       "      <th>selling_price</th>\n",
       "      <th>lead_time</th>\n",
       "    </tr>\n",
       "  </thead>\n",
       "  <tbody>\n",
       "    <tr>\n",
       "      <th>0</th>\n",
       "      <td>2021-04-01</td>\n",
       "      <td>4.010077</td>\n",
       "      <td>30156308.0</td>\n",
       "      <td>28.0</td>\n",
       "      <td>1</td>\n",
       "      <td>5.0</td>\n",
       "      <td>10.0</td>\n",
       "      <td>1.098612</td>\n",
       "      <td>1500.0</td>\n",
       "      <td>1670798778</td>\n",
       "      <td>2021-07-01</td>\n",
       "      <td>854.00</td>\n",
       "      <td>91</td>\n",
       "    </tr>\n",
       "    <tr>\n",
       "      <th>2</th>\n",
       "      <td>2021-04-01</td>\n",
       "      <td>5.958755</td>\n",
       "      <td>30153963.0</td>\n",
       "      <td>30.0</td>\n",
       "      <td>1</td>\n",
       "      <td>6.0</td>\n",
       "      <td>28.0</td>\n",
       "      <td>0.322083</td>\n",
       "      <td>952.0</td>\n",
       "      <td>628377</td>\n",
       "      <td>2021-01-01</td>\n",
       "      <td>644.33</td>\n",
       "      <td>-90</td>\n",
       "    </tr>\n",
       "  </tbody>\n",
       "</table>\n",
       "</div>"
      ],
      "text/plain": [
       "   item_date  quantity_tons    customer  country  status  item_type  \\\n",
       "0 2021-04-01       4.010077  30156308.0     28.0       1        5.0   \n",
       "2 2021-04-01       5.958755  30153963.0     30.0       1        6.0   \n",
       "\n",
       "   application  thickness   width  product_ref delivery_date  selling_price  \\\n",
       "0         10.0   1.098612  1500.0   1670798778    2021-07-01         854.00   \n",
       "2         28.0   0.322083   952.0       628377    2021-01-01         644.33   \n",
       "\n",
       "   lead_time  \n",
       "0         91  \n",
       "2        -90  "
      ]
     },
     "execution_count": 463,
     "metadata": {},
     "output_type": "execute_result"
    }
   ],
   "source": [
    "df.head(2)"
   ]
  },
  {
   "cell_type": "markdown",
   "metadata": {},
   "source": [
    "### On the all above results,the difference between Train and Test is very small.This represents that the model is performing well and not overfitting at all and generalizes  well on the unseen data."
   ]
  },
  {
   "cell_type": "markdown",
   "metadata": {},
   "source": [
    "# Saving the ML Model"
   ]
  },
  {
   "cell_type": "code",
   "execution_count": 464,
   "metadata": {},
   "outputs": [],
   "source": [
    "with open(\"Regression_Model.pkl\",\"wb\") as r:\n",
    "  pickle.dump(model_r,r)"
   ]
  },
  {
   "cell_type": "markdown",
   "metadata": {},
   "source": [
    "# Loading the ML Model"
   ]
  },
  {
   "cell_type": "code",
   "execution_count": 465,
   "metadata": {},
   "outputs": [],
   "source": [
    "with open(\"Regression_Model.pkl\",\"rb\") as r1:\n",
    "  regg_model=pickle.load(r1)"
   ]
  },
  {
   "cell_type": "code",
   "execution_count": 466,
   "metadata": {},
   "outputs": [
    {
     "data": {
      "text/html": [
       "<div>\n",
       "<style scoped>\n",
       "    .dataframe tbody tr th:only-of-type {\n",
       "        vertical-align: middle;\n",
       "    }\n",
       "\n",
       "    .dataframe tbody tr th {\n",
       "        vertical-align: top;\n",
       "    }\n",
       "\n",
       "    .dataframe thead th {\n",
       "        text-align: right;\n",
       "    }\n",
       "</style>\n",
       "<table border=\"1\" class=\"dataframe\">\n",
       "  <thead>\n",
       "    <tr style=\"text-align: right;\">\n",
       "      <th></th>\n",
       "      <th>item_date</th>\n",
       "      <th>quantity_tons</th>\n",
       "      <th>customer</th>\n",
       "      <th>country</th>\n",
       "      <th>status</th>\n",
       "      <th>item_type</th>\n",
       "      <th>application</th>\n",
       "      <th>thickness</th>\n",
       "      <th>width</th>\n",
       "      <th>product_ref</th>\n",
       "      <th>delivery_date</th>\n",
       "      <th>selling_price</th>\n",
       "      <th>lead_time</th>\n",
       "    </tr>\n",
       "  </thead>\n",
       "  <tbody>\n",
       "    <tr>\n",
       "      <th>0</th>\n",
       "      <td>2021-04-01</td>\n",
       "      <td>4.010077</td>\n",
       "      <td>30156308.0</td>\n",
       "      <td>28.0</td>\n",
       "      <td>1</td>\n",
       "      <td>5.0</td>\n",
       "      <td>10.0</td>\n",
       "      <td>1.098612</td>\n",
       "      <td>1500.0</td>\n",
       "      <td>1670798778</td>\n",
       "      <td>2021-07-01</td>\n",
       "      <td>854.00</td>\n",
       "      <td>91</td>\n",
       "    </tr>\n",
       "    <tr>\n",
       "      <th>2</th>\n",
       "      <td>2021-04-01</td>\n",
       "      <td>5.958755</td>\n",
       "      <td>30153963.0</td>\n",
       "      <td>30.0</td>\n",
       "      <td>1</td>\n",
       "      <td>6.0</td>\n",
       "      <td>28.0</td>\n",
       "      <td>0.322083</td>\n",
       "      <td>952.0</td>\n",
       "      <td>628377</td>\n",
       "      <td>2021-01-01</td>\n",
       "      <td>644.33</td>\n",
       "      <td>-90</td>\n",
       "    </tr>\n",
       "  </tbody>\n",
       "</table>\n",
       "</div>"
      ],
      "text/plain": [
       "   item_date  quantity_tons    customer  country  status  item_type  \\\n",
       "0 2021-04-01       4.010077  30156308.0     28.0       1        5.0   \n",
       "2 2021-04-01       5.958755  30153963.0     30.0       1        6.0   \n",
       "\n",
       "   application  thickness   width  product_ref delivery_date  selling_price  \\\n",
       "0         10.0   1.098612  1500.0   1670798778    2021-07-01         854.00   \n",
       "2         28.0   0.322083   952.0       628377    2021-01-01         644.33   \n",
       "\n",
       "   lead_time  \n",
       "0         91  \n",
       "2        -90  "
      ]
     },
     "execution_count": 466,
     "metadata": {},
     "output_type": "execute_result"
    }
   ],
   "source": [
    "df.head(2)"
   ]
  },
  {
   "cell_type": "code",
   "execution_count": 467,
   "metadata": {},
   "outputs": [
    {
     "name": "stdout",
     "output_type": "stream",
     "text": [
      "Predicted selling price : 843.4096137621714\n"
     ]
    }
   ],
   "source": [
    "input_data = np.array([[4.010077,30156308.0,28.0,1,5.0,10,1.098612,1500.0,1670798778,91]])\n",
    "sell_price_pred = regg_model.predict(input_data)\n",
    "print(\"Predicted selling price :\",sell_price_pred[0])"
   ]
  },
  {
   "cell_type": "code",
   "execution_count": 468,
   "metadata": {},
   "outputs": [
    {
     "name": "stdout",
     "output_type": "stream",
     "text": [
      "Predicted selling price : 688.2286456167735\n"
     ]
    }
   ],
   "source": [
    "input_data = np.array([[5.958755,30153963.0,30.0,1,6.0,28.0,0.322083,952,628377,-90]])\n",
    "sell_price_pred = regg_model.predict(input_data)\n",
    "print(\"Predicted selling price :\",sell_price_pred[0])"
   ]
  },
  {
   "cell_type": "code",
   "execution_count": 469,
   "metadata": {},
   "outputs": [],
   "source": [
    "def sell_price(input_data):\n",
    "    input_data_array = np.array(input_data)\n",
    "    sell_price_pred = regg_model.predict(input_data)\n",
    "    return(\"Predicted selling price :\",sell_price_pred[0])\n",
    "     "
   ]
  },
  {
   "cell_type": "markdown",
   "metadata": {},
   "source": [
    "# Status Prediction"
   ]
  },
  {
   "cell_type": "code",
   "execution_count": 470,
   "metadata": {},
   "outputs": [],
   "source": [
    "df_1 = df.copy()"
   ]
  },
  {
   "cell_type": "code",
   "execution_count": 471,
   "metadata": {},
   "outputs": [
    {
     "data": {
      "text/html": [
       "<div>\n",
       "<style scoped>\n",
       "    .dataframe tbody tr th:only-of-type {\n",
       "        vertical-align: middle;\n",
       "    }\n",
       "\n",
       "    .dataframe tbody tr th {\n",
       "        vertical-align: top;\n",
       "    }\n",
       "\n",
       "    .dataframe thead th {\n",
       "        text-align: right;\n",
       "    }\n",
       "</style>\n",
       "<table border=\"1\" class=\"dataframe\">\n",
       "  <thead>\n",
       "    <tr style=\"text-align: right;\">\n",
       "      <th></th>\n",
       "      <th>item_date</th>\n",
       "      <th>quantity_tons</th>\n",
       "      <th>customer</th>\n",
       "      <th>country</th>\n",
       "      <th>status</th>\n",
       "      <th>item_type</th>\n",
       "      <th>application</th>\n",
       "      <th>thickness</th>\n",
       "      <th>width</th>\n",
       "      <th>product_ref</th>\n",
       "      <th>delivery_date</th>\n",
       "      <th>selling_price</th>\n",
       "      <th>lead_time</th>\n",
       "    </tr>\n",
       "  </thead>\n",
       "  <tbody>\n",
       "    <tr>\n",
       "      <th>0</th>\n",
       "      <td>2021-04-01</td>\n",
       "      <td>4.010077</td>\n",
       "      <td>30156308.0</td>\n",
       "      <td>28.0</td>\n",
       "      <td>1</td>\n",
       "      <td>5.0</td>\n",
       "      <td>10.0</td>\n",
       "      <td>1.098612</td>\n",
       "      <td>1500.0</td>\n",
       "      <td>1670798778</td>\n",
       "      <td>2021-07-01</td>\n",
       "      <td>854.00</td>\n",
       "      <td>91</td>\n",
       "    </tr>\n",
       "    <tr>\n",
       "      <th>2</th>\n",
       "      <td>2021-04-01</td>\n",
       "      <td>5.958755</td>\n",
       "      <td>30153963.0</td>\n",
       "      <td>30.0</td>\n",
       "      <td>1</td>\n",
       "      <td>6.0</td>\n",
       "      <td>28.0</td>\n",
       "      <td>0.322083</td>\n",
       "      <td>952.0</td>\n",
       "      <td>628377</td>\n",
       "      <td>2021-01-01</td>\n",
       "      <td>644.33</td>\n",
       "      <td>-90</td>\n",
       "    </tr>\n",
       "  </tbody>\n",
       "</table>\n",
       "</div>"
      ],
      "text/plain": [
       "   item_date  quantity_tons    customer  country  status  item_type  \\\n",
       "0 2021-04-01       4.010077  30156308.0     28.0       1        5.0   \n",
       "2 2021-04-01       5.958755  30153963.0     30.0       1        6.0   \n",
       "\n",
       "   application  thickness   width  product_ref delivery_date  selling_price  \\\n",
       "0         10.0   1.098612  1500.0   1670798778    2021-07-01         854.00   \n",
       "2         28.0   0.322083   952.0       628377    2021-01-01         644.33   \n",
       "\n",
       "   lead_time  \n",
       "0         91  \n",
       "2        -90  "
      ]
     },
     "execution_count": 471,
     "metadata": {},
     "output_type": "execute_result"
    }
   ],
   "source": [
    "df_1.head(2)"
   ]
  },
  {
   "cell_type": "code",
   "execution_count": 472,
   "metadata": {},
   "outputs": [
    {
     "data": {
      "text/plain": [
       "array([1, 3, 0, 4, 5, 6, 7, 8], dtype=int64)"
      ]
     },
     "execution_count": 472,
     "metadata": {},
     "output_type": "execute_result"
    }
   ],
   "source": [
    "df_1['status'].unique()"
   ]
  },
  {
   "cell_type": "code",
   "execution_count": 473,
   "metadata": {},
   "outputs": [
    {
     "data": {
      "text/plain": [
       "array([5., 6., 3., 1., 2., 0., 4.])"
      ]
     },
     "execution_count": 473,
     "metadata": {},
     "output_type": "execute_result"
    }
   ],
   "source": [
    "df_1['item_type'].unique()"
   ]
  },
  {
   "cell_type": "markdown",
   "metadata": {},
   "source": [
    "## Scaling down values"
   ]
  },
  {
   "cell_type": "code",
   "execution_count": 474,
   "metadata": {},
   "outputs": [],
   "source": [
    "df_1 = df_1[(df_1['status'] == 1) |(df_1['status'] == 0)]"
   ]
  },
  {
   "cell_type": "markdown",
   "metadata": {},
   "source": [
    "## Imbalanced Data"
   ]
  },
  {
   "cell_type": "code",
   "execution_count": 475,
   "metadata": {},
   "outputs": [
    {
     "data": {
      "text/plain": [
       "status\n",
       "1    102430\n",
       "0     29095\n",
       "Name: count, dtype: int64"
      ]
     },
     "execution_count": 475,
     "metadata": {},
     "output_type": "execute_result"
    }
   ],
   "source": [
    "df_1['status'].value_counts()"
   ]
  },
  {
   "cell_type": "code",
   "execution_count": 476,
   "metadata": {},
   "outputs": [
    {
     "data": {
      "text/plain": [
       "status\n",
       "1    0.778787\n",
       "0    0.221213\n",
       "Name: proportion, dtype: float64"
      ]
     },
     "execution_count": 476,
     "metadata": {},
     "output_type": "execute_result"
    }
   ],
   "source": [
    "df_1['status'].value_counts(normalize=True) # percentage view"
   ]
  },
  {
   "cell_type": "code",
   "execution_count": 477,
   "metadata": {},
   "outputs": [
    {
     "name": "stdout",
     "output_type": "stream",
     "text": [
      "Train_Accuracy :0.7898118228473674\n",
      "Train_Precision : 0.7560021256493655\n",
      "Train_Recall : 0.7898118228473674\n",
      "Train_F1 : 0.7498747424509986\n",
      "Test_Accuracy :0.7912564151302034\n",
      "Test_Precision : 0.758388704975993\n",
      "Test_Recall : 0.7912564151302034\n",
      "Test_F1 : 0.7494253812099098\n"
     ]
    }
   ],
   "source": [
    "X = df_1.drop(['item_date','delivery_date','status'],axis=1)\n",
    "y= df_1['status']\n",
    "\n",
    "x_train,x_test,y_train,y_test = train_test_split(X,y,test_size = 0.2,stratify=y,random_state=42)\n",
    "\n",
    "model = LogisticRegression(C= 0.01,max_iter=200,penalty='l2',solver='newton-cg',random_state=42)\n",
    "\n",
    "model.fit(x_train,y_train)\n",
    "\n",
    "\n",
    "train_pred = model.predict(x_train)\n",
    "test_pred = model.predict(x_test)\n",
    "\n",
    "\n",
    "print(f\"Train_Accuracy :{accuracy_score(y_train,train_pred)}\")\n",
    "print(f\"Train_Precision : {precision_score(y_train,train_pred,average='weighted')}\")\n",
    "print(f\"Train_Recall : {recall_score(y_train,train_pred,average='weighted')}\")\n",
    "print(f\"Train_F1 : {f1_score(y_train,train_pred,average='weighted')}\")\n",
    "\n",
    "print(f\"Test_Accuracy :{accuracy_score(y_test,test_pred)}\")\n",
    "print(f\"Test_Precision : {precision_score(y_test,test_pred,average='weighted')}\")\n",
    "print(f\"Test_Recall : {recall_score(y_test,test_pred,average='weighted')}\")\n",
    "print(f\"Test_F1 : {f1_score(y_test,test_pred,average='weighted')}\")"
   ]
  },
  {
   "cell_type": "markdown",
   "metadata": {},
   "source": [
    "# Data is imbalanced"
   ]
  },
  {
   "cell_type": "code",
   "execution_count": 478,
   "metadata": {},
   "outputs": [
    {
     "data": {
      "text/plain": [
       "status\n",
       "1    81944\n",
       "0    23276\n",
       "Name: count, dtype: int64"
      ]
     },
     "execution_count": 478,
     "metadata": {},
     "output_type": "execute_result"
    }
   ],
   "source": [
    "y_train.value_counts()"
   ]
  },
  {
   "cell_type": "code",
   "execution_count": 479,
   "metadata": {},
   "outputs": [
    {
     "data": {
      "text/plain": [
       "status\n",
       "1    0.778787\n",
       "0    0.221213\n",
       "Name: proportion, dtype: float64"
      ]
     },
     "execution_count": 479,
     "metadata": {},
     "output_type": "execute_result"
    }
   ],
   "source": [
    "y_train.value_counts(normalize=True) # percentage view"
   ]
  },
  {
   "cell_type": "markdown",
   "metadata": {},
   "source": [
    "Since the data is imbalanced,it has to be treated with balancing methods such as RandomOverSampler or SMOTE (Synthetic Minority Oversampling Technique)"
   ]
  },
  {
   "cell_type": "markdown",
   "metadata": {},
   "source": [
    "# Applying RandomOversampler() Method"
   ]
  },
  {
   "cell_type": "code",
   "execution_count": 480,
   "metadata": {},
   "outputs": [
    {
     "name": "stdout",
     "output_type": "stream",
     "text": [
      "Train_Accuracy :0.7112906375085424\n",
      "Train_Precision : 0.7124579529985363\n",
      "Train_Recall : 0.7112906375085424\n",
      "Train_F1 : 0.7108935254432553\n",
      "Test_Accuracy :0.71121741677243\n",
      "Test_Precision : 0.7123528652049912\n",
      "Test_Recall : 0.71121741677243\n",
      "Test_F1 : 0.7108308707347153\n"
     ]
    }
   ],
   "source": [
    "X = df_1.drop(['item_date','delivery_date','status'],axis=1)\n",
    "y= df_1['status']\n",
    "\n",
    "ros = RandomOverSampler()\n",
    "\n",
    "X,y = ros.fit_resample(X,y)\n",
    "\n",
    "x_train,x_test,y_train,y_test = train_test_split(X,y,test_size = 0.2,stratify=y)\n",
    "\n",
    "model = LogisticRegression(C= 0.01,max_iter=200,penalty='l2',solver='newton-cg',random_state=42)\n",
    "\n",
    "model.fit(x_train,y_train)\n",
    "\n",
    "\n",
    "train_pred = model.predict(x_train)\n",
    "test_pred = model.predict(x_test)\n",
    "\n",
    "\n",
    "print(f\"Train_Accuracy :{accuracy_score(y_train,train_pred)}\")\n",
    "print(f\"Train_Precision : {precision_score(y_train,train_pred,average='weighted')}\")\n",
    "print(f\"Train_Recall : {recall_score(y_train,train_pred,average='weighted')}\")\n",
    "print(f\"Train_F1 : {f1_score(y_train,train_pred,average='weighted')}\")\n",
    "\n",
    "print(f\"Test_Accuracy :{accuracy_score(y_test,test_pred)}\")\n",
    "print(f\"Test_Precision : {precision_score(y_test,test_pred,average='weighted')}\")\n",
    "print(f\"Test_Recall : {recall_score(y_test,test_pred,average='weighted')}\")\n",
    "print(f\"Test_F1 : {f1_score(y_test,test_pred,average='weighted')}\")"
   ]
  },
  {
   "cell_type": "markdown",
   "metadata": {},
   "source": [
    "# Balanced data is obtained after having applied RandomOverSampler() Method"
   ]
  },
  {
   "cell_type": "code",
   "execution_count": 481,
   "metadata": {},
   "outputs": [
    {
     "data": {
      "text/plain": [
       "status\n",
       "0    81944\n",
       "1    81944\n",
       "Name: count, dtype: int64"
      ]
     },
     "execution_count": 481,
     "metadata": {},
     "output_type": "execute_result"
    }
   ],
   "source": [
    "y_train.value_counts()"
   ]
  },
  {
   "cell_type": "code",
   "execution_count": 482,
   "metadata": {},
   "outputs": [
    {
     "data": {
      "text/plain": [
       "status\n",
       "0    0.5\n",
       "1    0.5\n",
       "Name: proportion, dtype: float64"
      ]
     },
     "execution_count": 482,
     "metadata": {},
     "output_type": "execute_result"
    }
   ],
   "source": [
    "y_train.value_counts(normalize=True) # percentage  view"
   ]
  },
  {
   "cell_type": "markdown",
   "metadata": {},
   "source": [
    "# Applying SMOTE(Synthetic Minority OverSampling Method)"
   ]
  },
  {
   "cell_type": "code",
   "execution_count": 483,
   "metadata": {},
   "outputs": [
    {
     "name": "stdout",
     "output_type": "stream",
     "text": [
      "Train_Accuracy :0.711528604900908\n",
      "Train_Precision : 0.7127429509597658\n",
      "Train_Recall : 0.711528604900908\n",
      "Train_F1 : 0.7111163647981298\n",
      "Test_Accuracy :0.7104608024992678\n",
      "Test_Precision : 0.7116273863488369\n",
      "Test_Recall : 0.7104608024992678\n",
      "Test_F1 : 0.7100612347888986\n"
     ]
    }
   ],
   "source": [
    "X = df_1.drop(['item_date','delivery_date','status'],axis=1)\n",
    "y= df_1['status']\n",
    "\n",
    "ros = SMOTE(k_neighbors=1)\n",
    "\n",
    "X,y = ros.fit_resample(X,y)\n",
    "\n",
    "x_train,x_test,y_train,y_test = train_test_split(X,y,test_size = 0.2,stratify=y)\n",
    "\n",
    "model = LogisticRegression(C= 0.01,max_iter=200,penalty='l2',solver='newton-cg',random_state=42)\n",
    "\n",
    "model.fit(x_train,y_train)\n",
    "\n",
    "\n",
    "train_pred = model.predict(x_train)\n",
    "test_pred = model.predict(x_test)\n",
    "\n",
    "\n",
    "print(f\"Train_Accuracy :{accuracy_score(y_train,train_pred)}\")\n",
    "print(f\"Train_Precision : {precision_score(y_train,train_pred,average='weighted')}\")\n",
    "print(f\"Train_Recall : {recall_score(y_train,train_pred,average='weighted')}\")\n",
    "print(f\"Train_F1 : {f1_score(y_train,train_pred,average='weighted')}\")\n",
    "\n",
    "print(f\"Test_Accuracy :{accuracy_score(y_test,test_pred)}\")\n",
    "print(f\"Test_Precision : {precision_score(y_test,test_pred,average='weighted')}\")\n",
    "print(f\"Test_Recall : {recall_score(y_test,test_pred,average='weighted')}\")\n",
    "print(f\"Test_F1 : {f1_score(y_test,test_pred,average='weighted')}\")"
   ]
  },
  {
   "cell_type": "markdown",
   "metadata": {},
   "source": [
    "# Balanced data after application of SMOTE Method"
   ]
  },
  {
   "cell_type": "code",
   "execution_count": 484,
   "metadata": {},
   "outputs": [
    {
     "data": {
      "text/plain": [
       "status\n",
       "1    81944\n",
       "0    81944\n",
       "Name: count, dtype: int64"
      ]
     },
     "execution_count": 484,
     "metadata": {},
     "output_type": "execute_result"
    }
   ],
   "source": [
    "y_train.value_counts()"
   ]
  },
  {
   "cell_type": "code",
   "execution_count": 485,
   "metadata": {},
   "outputs": [
    {
     "data": {
      "text/plain": [
       "status\n",
       "1    0.5\n",
       "0    0.5\n",
       "Name: proportion, dtype: float64"
      ]
     },
     "execution_count": 485,
     "metadata": {},
     "output_type": "execute_result"
    }
   ],
   "source": [
    "y_train.value_counts(normalize=True) # percentage view"
   ]
  },
  {
   "cell_type": "markdown",
   "metadata": {},
   "source": [
    "# Evaluation with 5-Fold Cross Validation"
   ]
  },
  {
   "cell_type": "code",
   "execution_count": 486,
   "metadata": {},
   "outputs": [
    {
     "name": "stdout",
     "output_type": "stream",
     "text": [
      "Accuracy : 0.5535194767158058\n",
      "Precision : 0.5388079885654377\n",
      "Recall : 0.7390998730840574\n",
      "F1 Score : 0.6231023758565394\n",
      "ROC-AUC : 0.5294193457186216\n"
     ]
    }
   ],
   "source": [
    "\n",
    "Log_model = LogisticRegression().fit(X, y)\n",
    "cv_results = cross_validate(Log_model, X, y, cv=5, scoring=[\"accuracy\",\"precision\", \"recall\", \"f1\", \"roc_auc\"])\n",
    "print(f\"Accuracy : {cv_results['test_accuracy'].mean()}\")      \n",
    "print(f\"Precision : {cv_results['test_precision'].mean()}\")    \n",
    "print(f\"Recall : {cv_results['test_recall'].mean()}\")          \n",
    "print(f\"F1 Score : {cv_results['test_f1'].mean()}\")            \n",
    "print(f\"ROC-AUC : {cv_results['test_roc_auc'].mean()}\")        "
   ]
  },
  {
   "cell_type": "markdown",
   "metadata": {},
   "source": [
    "# Find out the best ML Models"
   ]
  },
  {
   "cell_type": "code",
   "execution_count": 400,
   "metadata": {},
   "outputs": [
    {
     "name": "stdout",
     "output_type": "stream",
     "text": [
      "********LogisticRegression*********\n",
      "Train_Accuracy :0.7101299305649101\n",
      "Train_Precision : 0.7114087199055897\n",
      "Train_Recall : 0.7101299305649101\n",
      "Train_F1 : 0.7096909182107126\n",
      "\n",
      "Test_Accuracy :0.7101885868234141\n",
      "Test_Precision : 0.7114794815997558\n",
      "Test_Recall : 0.7101885868234141\n",
      "Test_F1 : 0.7097456504439389\n",
      "\n",
      "********KNeighborsClassifier*********\n",
      "Train_Accuracy :0.9626128167134057\n",
      "Train_Precision : 0.9636824322586336\n",
      "Train_Recall : 0.9626128167134057\n",
      "Train_F1 : 0.9625912432263654\n",
      "\n",
      "Test_Accuracy :0.9454812637766348\n",
      "Test_Precision : 0.9473686196509024\n",
      "Test_Recall : 0.9454812637766348\n",
      "Test_F1 : 0.9454237022425643\n",
      "\n"
     ]
    }
   ],
   "source": [
    "\n",
    "X = df_1.drop(['item_date','delivery_date','status'],axis=1)\n",
    "y= df_1['status']\n",
    "\n",
    "\n",
    "ros = SMOTE(random_state=42)\n",
    "\n",
    "X,y = ros.fit_resample(X,y)\n",
    "\n",
    "x_train,x_test,y_train,y_test = train_test_split(X,y,test_size = 0.2,stratify=y)\n",
    "\n",
    "models = [LogisticRegression(),KNeighborsClassifier(),SVC(),DecisionTreeClassifier(),RandomForestClassifier(),\n",
    "         AdaBoostClassifier(),GradientBoostingClassifier()]\n",
    "\n",
    "for model in models:\n",
    "\n",
    "    model.fit(x_train,y_train)\n",
    "    \n",
    "    train_pred = model.predict(x_train)\n",
    "    test_pred = model.predict(x_test)\n",
    "    \n",
    "    \n",
    "    print(f\"********{type(model).__name__}*********\")\n",
    "    print(f\"Train_Accuracy :{accuracy_score(y_train,train_pred)}\")\n",
    "    print(f\"Train_Precision : {precision_score(y_train,train_pred,average='weighted')}\")\n",
    "    print(f\"Train_Recall : {recall_score(y_train,train_pred,average='weighted')}\")\n",
    "    print(f\"Train_F1 : {f1_score(y_train,train_pred,average='weighted')}\")\n",
    "    print()\n",
    "    print(f\"Test_Accuracy :{accuracy_score(y_test,test_pred)}\")\n",
    "    print(f\"Test_Precision : {precision_score(y_test,test_pred,average='weighted')}\")\n",
    "    print(f\"Test_Recall : {recall_score(y_test,test_pred,average='weighted')}\")\n",
    "    print(f\"Test_F1 : {f1_score(y_test,test_pred,average='weighted')}\")\n",
    "    print()\n"
   ]
  },
  {
   "cell_type": "code",
   "execution_count": 124,
   "metadata": {},
   "outputs": [
    {
     "name": "stdout",
     "output_type": "stream",
     "text": [
      "********LogisticRegression*********\n",
      "Accuracy : 0.5048895489800043\n",
      "Precision : 0.5283713815008296\n",
      "Recall : 0.5334294993366886\n",
      "F1 Score : 0.5085907982904105\n",
      "ROC-AUC : 0.5207020920377488\n",
      "********KNeighborsClassifier*********\n",
      "Accuracy : 0.512757154101146\n",
      "Precision : 0.5070191357289289\n",
      "Recall : 0.9022477644073101\n",
      "F1 Score : 0.6487795729080185\n",
      "ROC-AUC : 0.48776521123874883\n",
      "********SVC*********\n",
      "Accuracy : 0.4832375622706442\n",
      "Precision : 0.3901488108876232\n",
      "Recall : 0.6947299294040388\n",
      "F1 Score : 0.49906622681688956\n",
      "ROC-AUC : 0.38838307017662216\n",
      "********DecisionTreeClassifier*********\n",
      "Accuracy : 0.4827940049602887\n",
      "Precision : 0.4908584929051317\n",
      "Recall : 0.933572939589731\n",
      "F1 Score : 0.6432773383258955\n",
      "ROC-AUC : 0.48279387958060277\n",
      "********RandomForestClassifier*********\n",
      "Accuracy : 0.48724355888998794\n",
      "Precision : 0.493130131158834\n",
      "Recall : 0.9436213433963647\n",
      "F1 Score : 0.647537143479768\n",
      "ROC-AUC : 0.6539320908920203\n",
      "********AdaBoostClassifier*********\n",
      "Accuracy : 0.3023594305295337\n",
      "Precision : 0.36106102543844604\n",
      "Recall : 0.5791396280657429\n",
      "F1 Score : 0.4430270670388728\n",
      "ROC-AUC : 0.18706177646069322\n",
      "********GradientBoostingClassifier*********\n",
      "Accuracy : 0.3527300059865647\n",
      "Precision : 0.4063281987361801\n",
      "Recall : 0.6770240083420072\n",
      "F1 Score : 0.5068106734353093\n",
      "ROC-AUC : 0.23012634573573312\n"
     ]
    }
   ],
   "source": [
    "models = [LogisticRegression(),KNeighborsClassifier(),SVC(),DecisionTreeClassifier(),RandomForestClassifier(),\n",
    "         AdaBoostClassifier(),GradientBoostingClassifier()]\n",
    "\n",
    "for model in models:\n",
    "    cv_results = cross_validate(model, X, y, cv=5, scoring=[\"accuracy\",\"precision\", \"recall\", \"f1\", \"roc_auc\"])\n",
    "    print(f\"********{type(model).__name__}*********\")\n",
    "    print(f\"Accuracy : {cv_results['test_accuracy'].mean()}\")      \n",
    "    print(f\"Precision : {cv_results['test_precision'].mean()}\")    \n",
    "    print(f\"Recall : {cv_results['test_recall'].mean()}\")          \n",
    "    print(f\"F1 Score : {cv_results['test_f1'].mean()}\")            \n",
    "    print(f\"ROC-AUC : {cv_results['test_roc_auc'].mean()}\")        \n"
   ]
  },
  {
   "cell_type": "markdown",
   "metadata": {},
   "source": [
    "### KNN, Decision tree and Random Forest Algorithms are working fine and those are the best rather than other ML Models."
   ]
  },
  {
   "cell_type": "markdown",
   "metadata": {},
   "source": [
    "# Hyper parameters tuning of Selected Models:"
   ]
  },
  {
   "cell_type": "code",
   "execution_count": 950,
   "metadata": {},
   "outputs": [
    {
     "data": {
      "text/plain": [
       "{'algorithm': 'auto',\n",
       " 'leaf_size': 30,\n",
       " 'metric': 'l1',\n",
       " 'metric_params': None,\n",
       " 'weights': 'distance'}"
      ]
     },
     "execution_count": 950,
     "metadata": {},
     "output_type": "execute_result"
    }
   ],
   "source": [
    "X = df_1.drop(['item_date','delivery_date','status'],axis=1)\n",
    "y= df_1['status']\n",
    "\n",
    "ros = SMOTE()\n",
    "\n",
    "X,y = ros.fit_resample(X,y)\n",
    "\n",
    "x_train,x_test,y_train,y_test = train_test_split(X,y,test_size = 0.2)\n",
    "\n",
    "model = KNeighborsClassifier(n_neighbors=5)\n",
    "\n",
    "\n",
    "params = {\n",
    "     'weights': ['uniform','distance'],\n",
    "    'leaf_size' : [30,40],\n",
    "     'metric' : ['l1','l2'],\n",
    "     'algorithm' : ['auto','ball_tree','kd_tree'],\n",
    "    'metric_params': [None]\n",
    "}\n",
    "\n",
    "cv=GridSearchCV(model,params)\n",
    "cv.fit(x_train,y_train)\n",
    "cv.best_params_"
   ]
  },
  {
   "cell_type": "code",
   "execution_count": 487,
   "metadata": {},
   "outputs": [
    {
     "name": "stdout",
     "output_type": "stream",
     "text": [
      "Train_Accuracy :1.0\n",
      "Train_Precision : 1.0\n",
      "Train_Recall : 1.0\n",
      "Train_F1 : 1.0\n",
      "Test_Accuracy :0.9773503856292102\n",
      "Test_Precision : 0.9775808254732616\n",
      "Test_Recall : 0.9773503856292102\n",
      "Test_F1 : 0.9773476531057256\n"
     ]
    }
   ],
   "source": [
    "X = df_1.drop(['item_date','delivery_date','status'],axis=1)\n",
    "y= df_1['status']\n",
    "\n",
    "ros = SMOTE()\n",
    "\n",
    "X,y = ros.fit_resample(X,y)\n",
    "\n",
    "x_train,x_test,y_train,y_test = train_test_split(X,y,test_size = 0.2,stratify=y)\n",
    "\n",
    "model = RandomForestClassifier()\n",
    "\n",
    "model.fit(x_train,y_train)\n",
    "\n",
    "\n",
    "train_pred = model.predict(x_train)\n",
    "test_pred = model.predict(x_test)\n",
    "\n",
    "\n",
    "print(f\"Train_Accuracy :{accuracy_score(y_train,train_pred)}\")\n",
    "print(f\"Train_Precision : {precision_score(y_train,train_pred,average='weighted')}\")\n",
    "print(f\"Train_Recall : {recall_score(y_train,train_pred,average='weighted')}\")\n",
    "print(f\"Train_F1 : {f1_score(y_train,train_pred,average='weighted')}\")\n",
    "\n",
    "print(f\"Test_Accuracy :{accuracy_score(y_test,test_pred)}\")\n",
    "print(f\"Test_Precision : {precision_score(y_test,test_pred,average='weighted')}\")\n",
    "print(f\"Test_Recall : {recall_score(y_test,test_pred,average='weighted')}\")\n",
    "print(f\"Test_F1 : {f1_score(y_test,test_pred,average='weighted')}\")\n",
    "\n"
   ]
  },
  {
   "cell_type": "code",
   "execution_count": 488,
   "metadata": {},
   "outputs": [
    {
     "name": "stdout",
     "output_type": "stream",
     "text": [
      "Train_Accuracy :0.8881309186761691\n",
      "Train_Precision : 0.8933265256212491\n",
      "Train_Recall : 0.8881309186761691\n",
      "Train_F1 : 0.8877602638163752\n",
      "Test_Accuracy :0.8832129259006151\n",
      "Test_Precision : 0.8880405695507992\n",
      "Test_Recall : 0.8832129259006151\n",
      "Test_F1 : 0.882848553279393\n"
     ]
    }
   ],
   "source": [
    "X = df_1.drop(['item_date','delivery_date','status'],axis=1)\n",
    "y= df_1['status']\n",
    "\n",
    "ros = SMOTE()\n",
    "\n",
    "X,y = ros.fit_resample(X,y)\n",
    "\n",
    "x_train,x_test,y_train,y_test = train_test_split(X,y,test_size = 0.2,stratify=y)\n",
    "\n",
    "model = RandomForestClassifier(n_estimators=100,criterion ='entropy',max_depth=10,min_samples_split=5,min_samples_leaf=4,max_features='log2')\n",
    "\n",
    "\n",
    "model.fit(x_train,y_train)\n",
    "\n",
    "\n",
    "train_pred = model.predict(x_train)\n",
    "test_pred = model.predict(x_test)\n",
    "\n",
    "\n",
    "print(f\"Train_Accuracy :{accuracy_score(y_train,train_pred)}\")\n",
    "print(f\"Train_Precision : {precision_score(y_train,train_pred,average='weighted')}\")\n",
    "print(f\"Train_Recall : {recall_score(y_train,train_pred,average='weighted')}\")\n",
    "print(f\"Train_F1 : {f1_score(y_train,train_pred,average='weighted')}\")\n",
    "\n",
    "print(f\"Test_Accuracy :{accuracy_score(y_test,test_pred)}\")\n",
    "print(f\"Test_Precision : {precision_score(y_test,test_pred,average='weighted')}\")\n",
    "print(f\"Test_Recall : {recall_score(y_test,test_pred,average='weighted')}\")\n",
    "print(f\"Test_F1 : {f1_score(y_test,test_pred,average='weighted')}\")"
   ]
  },
  {
   "cell_type": "code",
   "execution_count": 489,
   "metadata": {},
   "outputs": [
    {
     "name": "stdout",
     "output_type": "stream",
     "text": [
      "********RandomForestClassifier*********\n",
      "Accuracy : 0.8834618764033975\n",
      "Precision : 0.932466799295663\n",
      "Recall : 0.8267980817296727\n",
      "F1 Score : 0.8764550458861962\n",
      "ROC-AUC : 0.9453261860078495\n"
     ]
    }
   ],
   "source": [
    "models = RandomForestClassifier(n_estimators=100,criterion ='entropy',max_depth=10,min_samples_split=5,min_samples_leaf=4,max_features='log2')\n",
    "kf = KFold(n_splits=5,shuffle=True,random_state=42)\n",
    "\n",
    "cv_results = cross_validate(model, X, y, cv=kf, scoring=[\"accuracy\",\"precision\", \"recall\", \"f1\", \"roc_auc\"])\n",
    "print(f\"********{type(model).__name__}*********\")\n",
    "print(f\"Accuracy : {cv_results['test_accuracy'].mean()}\")      \n",
    "print(f\"Precision : {cv_results['test_precision'].mean()}\")    \n",
    "print(f\"Recall : {cv_results['test_recall'].mean()}\")          \n",
    "print(f\"F1 Score : {cv_results['test_f1'].mean()}\")            \n",
    "print(f\"ROC-AUC : {cv_results['test_roc_auc'].mean()}\")        \n"
   ]
  },
  {
   "cell_type": "code",
   "execution_count": 490,
   "metadata": {},
   "outputs": [
    {
     "name": "stdout",
     "output_type": "stream",
     "text": [
      "Train_Accuracy :1.0\n",
      "Train_Precision : 1.0\n",
      "Train_Recall : 1.0\n",
      "Train_F1 : 1.0\n",
      "Test_Accuracy :0.956726544957532\n",
      "Test_Precision : 0.957318432698934\n",
      "Test_Recall : 0.956726544957532\n",
      "Test_F1 : 0.9567125386788208\n"
     ]
    }
   ],
   "source": [
    "X = df_1.drop(['item_date','delivery_date','status'],axis=1)\n",
    "y= df_1['status']\n",
    "\n",
    "ros = SMOTE()\n",
    "\n",
    "X,y = ros.fit_resample(X,y)\n",
    "\n",
    "x_train,x_test,y_train,y_test = train_test_split(X,y,test_size = 0.2,stratify=y)\n",
    "\n",
    "model = KNeighborsClassifier(n_neighbors=5,algorithm='auto',leaf_size=30,metric='l1',metric_params=None,weights='distance')\n",
    "\n",
    "model.fit(x_train,y_train)\n",
    "\n",
    "\n",
    "train_pred = model.predict(x_train)\n",
    "test_pred = model.predict(x_test)\n",
    "\n",
    "\n",
    "print(f\"Train_Accuracy :{accuracy_score(y_train,train_pred)}\")\n",
    "print(f\"Train_Precision : {precision_score(y_train,train_pred,average='weighted')}\")\n",
    "print(f\"Train_Recall : {recall_score(y_train,train_pred,average='weighted')}\")\n",
    "print(f\"Train_F1 : {f1_score(y_train,train_pred,average='weighted')}\")\n",
    "\n",
    "print(f\"Test_Accuracy :{accuracy_score(y_test,test_pred)}\")\n",
    "print(f\"Test_Precision : {precision_score(y_test,test_pred,average='weighted')}\")\n",
    "print(f\"Test_Recall : {recall_score(y_test,test_pred,average='weighted')}\")\n",
    "print(f\"Test_F1 : {f1_score(y_test,test_pred,average='weighted')}\")\n",
    "\n"
   ]
  },
  {
   "cell_type": "code",
   "execution_count": 491,
   "metadata": {},
   "outputs": [
    {
     "name": "stdout",
     "output_type": "stream",
     "text": [
      "********KNeighborsClassifier*********\n",
      "Accuracy : 0.9580689251195939\n",
      "Precision : 0.9745471409797825\n",
      "Recall : 0.9407002660659705\n",
      "F1 Score : 0.957323312022818\n",
      "ROC-AUC : 0.9845909444259139\n"
     ]
    }
   ],
   "source": [
    "models = KNeighborsClassifier(n_neighbors=5,algorithm='auto',leaf_size=30,metric='l1',metric_params=None,weights='distance')\n",
    "kf = KFold(n_splits=5,shuffle=True,random_state=42)\n",
    "\n",
    "cv_results = cross_validate(model, X, y, cv=kf, scoring=[\"accuracy\",\"precision\", \"recall\", \"f1\", \"roc_auc\"])\n",
    "print(f\"********{type(model).__name__}*********\")\n",
    "print(f\"Accuracy : {cv_results['test_accuracy'].mean()}\")      \n",
    "print(f\"Precision : {cv_results['test_precision'].mean()}\")    \n",
    "print(f\"Recall : {cv_results['test_recall'].mean()}\")          \n",
    "print(f\"F1 Score : {cv_results['test_f1'].mean()}\")            \n",
    "print(f\"ROC-AUC : {cv_results['test_roc_auc'].mean()}\")        \n"
   ]
  },
  {
   "cell_type": "markdown",
   "metadata": {},
   "source": [
    "## Saving the Model"
   ]
  },
  {
   "cell_type": "code",
   "execution_count": 492,
   "metadata": {},
   "outputs": [],
   "source": [
    "with open(\"model.pkl\",\"wb\") as ft:\n",
    "    pickle.dump(model,ft)"
   ]
  },
  {
   "cell_type": "markdown",
   "metadata": {},
   "source": [
    "## Loading the Model"
   ]
  },
  {
   "cell_type": "code",
   "execution_count": 493,
   "metadata": {},
   "outputs": [],
   "source": [
    "with open(\"model.pkl\",\"rb\") as ft:\n",
    "    ml = pickle.load(ft)       \n"
   ]
  },
  {
   "cell_type": "code",
   "execution_count": 494,
   "metadata": {},
   "outputs": [
    {
     "name": "stdout",
     "output_type": "stream",
     "text": [
      "Train_Accuracy :1.0\n",
      "Train_Precision : 1.0\n",
      "Train_Recall : 1.0\n",
      "Train_F1 : 1.0\n",
      "Test_Accuracy :0.956726544957532\n",
      "Test_Precision : 0.957318432698934\n",
      "Test_Recall : 0.956726544957532\n",
      "Test_F1 : 0.9567125386788208\n"
     ]
    }
   ],
   "source": [
    "train_pred = ml.predict(x_train)\n",
    "test_pred = ml.predict(x_test)\n",
    "\n",
    "\n",
    "print(f\"Train_Accuracy :{accuracy_score(y_train,train_pred)}\")\n",
    "print(f\"Train_Precision : {precision_score(y_train,train_pred,average='weighted')}\")\n",
    "print(f\"Train_Recall : {recall_score(y_train,train_pred,average='weighted')}\")\n",
    "print(f\"Train_F1 : {f1_score(y_train,train_pred,average='weighted')}\")\n",
    "\n",
    "print(f\"Test_Accuracy :{accuracy_score(y_test,test_pred)}\")\n",
    "print(f\"Test_Precision : {precision_score(y_test,test_pred,average='weighted')}\")\n",
    "print(f\"Test_Recall : {recall_score(y_test,test_pred,average='weighted')}\")\n",
    "print(f\"Test_F1 : {f1_score(y_test,test_pred,average='weighted')}\")"
   ]
  },
  {
   "cell_type": "code",
   "execution_count": 495,
   "metadata": {},
   "outputs": [
    {
     "data": {
      "text/html": [
       "<div>\n",
       "<style scoped>\n",
       "    .dataframe tbody tr th:only-of-type {\n",
       "        vertical-align: middle;\n",
       "    }\n",
       "\n",
       "    .dataframe tbody tr th {\n",
       "        vertical-align: top;\n",
       "    }\n",
       "\n",
       "    .dataframe thead th {\n",
       "        text-align: right;\n",
       "    }\n",
       "</style>\n",
       "<table border=\"1\" class=\"dataframe\">\n",
       "  <thead>\n",
       "    <tr style=\"text-align: right;\">\n",
       "      <th></th>\n",
       "      <th>item_date</th>\n",
       "      <th>quantity_tons</th>\n",
       "      <th>customer</th>\n",
       "      <th>country</th>\n",
       "      <th>status</th>\n",
       "      <th>item_type</th>\n",
       "      <th>application</th>\n",
       "      <th>thickness</th>\n",
       "      <th>width</th>\n",
       "      <th>product_ref</th>\n",
       "      <th>delivery_date</th>\n",
       "      <th>selling_price</th>\n",
       "      <th>lead_time</th>\n",
       "    </tr>\n",
       "  </thead>\n",
       "  <tbody>\n",
       "    <tr>\n",
       "      <th>63565</th>\n",
       "      <td>2021-01-13</td>\n",
       "      <td>1.256482</td>\n",
       "      <td>30165529.0</td>\n",
       "      <td>78.0</td>\n",
       "      <td>1</td>\n",
       "      <td>5.0</td>\n",
       "      <td>10.0</td>\n",
       "      <td>0.530628</td>\n",
       "      <td>1500.0</td>\n",
       "      <td>1332077137</td>\n",
       "      <td>2021-05-01</td>\n",
       "      <td>927.0</td>\n",
       "      <td>108</td>\n",
       "    </tr>\n",
       "    <tr>\n",
       "      <th>137167</th>\n",
       "      <td>2020-09-28</td>\n",
       "      <td>2.352489</td>\n",
       "      <td>30229766.0</td>\n",
       "      <td>84.0</td>\n",
       "      <td>1</td>\n",
       "      <td>5.0</td>\n",
       "      <td>41.0</td>\n",
       "      <td>0.530628</td>\n",
       "      <td>1500.0</td>\n",
       "      <td>1668701718</td>\n",
       "      <td>2020-10-01</td>\n",
       "      <td>902.0</td>\n",
       "      <td>3</td>\n",
       "    </tr>\n",
       "    <tr>\n",
       "      <th>58075</th>\n",
       "      <td>2021-01-19</td>\n",
       "      <td>1.816109</td>\n",
       "      <td>30341127.0</td>\n",
       "      <td>84.0</td>\n",
       "      <td>1</td>\n",
       "      <td>5.0</td>\n",
       "      <td>10.0</td>\n",
       "      <td>0.530628</td>\n",
       "      <td>1000.0</td>\n",
       "      <td>164141591</td>\n",
       "      <td>2021-04-01</td>\n",
       "      <td>1007.0</td>\n",
       "      <td>72</td>\n",
       "    </tr>\n",
       "    <tr>\n",
       "      <th>141057</th>\n",
       "      <td>2020-09-19</td>\n",
       "      <td>3.471178</td>\n",
       "      <td>30292278.0</td>\n",
       "      <td>32.0</td>\n",
       "      <td>0</td>\n",
       "      <td>3.0</td>\n",
       "      <td>15.0</td>\n",
       "      <td>0.916291</td>\n",
       "      <td>1500.0</td>\n",
       "      <td>164141591</td>\n",
       "      <td>2021-01-01</td>\n",
       "      <td>723.0</td>\n",
       "      <td>104</td>\n",
       "    </tr>\n",
       "    <tr>\n",
       "      <th>46046</th>\n",
       "      <td>2021-02-02</td>\n",
       "      <td>4.610134</td>\n",
       "      <td>30165984.0</td>\n",
       "      <td>26.0</td>\n",
       "      <td>0</td>\n",
       "      <td>5.0</td>\n",
       "      <td>10.0</td>\n",
       "      <td>1.252763</td>\n",
       "      <td>1500.0</td>\n",
       "      <td>1668701718</td>\n",
       "      <td>2021-07-01</td>\n",
       "      <td>1013.0</td>\n",
       "      <td>149</td>\n",
       "    </tr>\n",
       "  </tbody>\n",
       "</table>\n",
       "</div>"
      ],
      "text/plain": [
       "        item_date  quantity_tons    customer  country  status  item_type  \\\n",
       "63565  2021-01-13       1.256482  30165529.0     78.0       1        5.0   \n",
       "137167 2020-09-28       2.352489  30229766.0     84.0       1        5.0   \n",
       "58075  2021-01-19       1.816109  30341127.0     84.0       1        5.0   \n",
       "141057 2020-09-19       3.471178  30292278.0     32.0       0        3.0   \n",
       "46046  2021-02-02       4.610134  30165984.0     26.0       0        5.0   \n",
       "\n",
       "        application  thickness   width  product_ref delivery_date  \\\n",
       "63565          10.0   0.530628  1500.0   1332077137    2021-05-01   \n",
       "137167         41.0   0.530628  1500.0   1668701718    2020-10-01   \n",
       "58075          10.0   0.530628  1000.0    164141591    2021-04-01   \n",
       "141057         15.0   0.916291  1500.0    164141591    2021-01-01   \n",
       "46046          10.0   1.252763  1500.0   1668701718    2021-07-01   \n",
       "\n",
       "        selling_price  lead_time  \n",
       "63565           927.0        108  \n",
       "137167          902.0          3  \n",
       "58075          1007.0         72  \n",
       "141057          723.0        104  \n",
       "46046          1013.0        149  "
      ]
     },
     "execution_count": 495,
     "metadata": {},
     "output_type": "execute_result"
    }
   ],
   "source": [
    "df_1.sample(5)"
   ]
  },
  {
   "cell_type": "code",
   "execution_count": 496,
   "metadata": {},
   "outputs": [
    {
     "name": "stdout",
     "output_type": "stream",
     "text": [
      "Won\n"
     ]
    }
   ],
   "source": [
    "user_data = np.array([[1.256482,30165529.0,78.0,5.0,10.0,0.530628,1500.0,1332077137,927.0,108]])\n",
    "prediction = model.predict(user_data)\n",
    "\n",
    "if prediction == 1:\n",
    "    print(\"Won\")\n",
    "else:\n",
    "    print(\"Lost\")"
   ]
  },
  {
   "cell_type": "code",
   "execution_count": 503,
   "metadata": {},
   "outputs": [
    {
     "name": "stdout",
     "output_type": "stream",
     "text": [
      "Lost\n"
     ]
    }
   ],
   "source": [
    "user_data = np.array([[4.610134,30165984.0,26.0,5.0,10.0,1.252763,1500.0,1668701718,1013.0,149]])\n",
    "prediction = model.predict(user_data)\n",
    "\n",
    "if prediction == 1:\n",
    "    print(\"Won\")\n",
    "else:\n",
    "    print(\"Lost\")"
   ]
  },
  {
   "cell_type": "code",
   "execution_count": 502,
   "metadata": {},
   "outputs": [],
   "source": [
    "def status_pred(user_data):\n",
    "    user_data_array = np.array(user_data)\n",
    "    prediction = model.predict(user_data)\n",
    "    if prediction == 1:\n",
    "        print(\"Won\")\n",
    "    else:\n",
    "        print(\"Lost\")"
   ]
  },
  {
   "cell_type": "code",
   "execution_count": 501,
   "metadata": {},
   "outputs": [
    {
     "data": {
      "text/html": [
       "<div>\n",
       "<style scoped>\n",
       "    .dataframe tbody tr th:only-of-type {\n",
       "        vertical-align: middle;\n",
       "    }\n",
       "\n",
       "    .dataframe tbody tr th {\n",
       "        vertical-align: top;\n",
       "    }\n",
       "\n",
       "    .dataframe thead th {\n",
       "        text-align: right;\n",
       "    }\n",
       "</style>\n",
       "<table border=\"1\" class=\"dataframe\">\n",
       "  <thead>\n",
       "    <tr style=\"text-align: right;\">\n",
       "      <th></th>\n",
       "      <th>item_date</th>\n",
       "      <th>quantity_tons</th>\n",
       "      <th>customer</th>\n",
       "      <th>country</th>\n",
       "      <th>status</th>\n",
       "      <th>item_type</th>\n",
       "      <th>application</th>\n",
       "      <th>thickness</th>\n",
       "      <th>width</th>\n",
       "      <th>product_ref</th>\n",
       "      <th>delivery_date</th>\n",
       "      <th>selling_price</th>\n",
       "      <th>lead_time</th>\n",
       "    </tr>\n",
       "  </thead>\n",
       "  <tbody>\n",
       "    <tr>\n",
       "      <th>47290</th>\n",
       "      <td>2021-02-01</td>\n",
       "      <td>2.447923</td>\n",
       "      <td>30156496.0</td>\n",
       "      <td>28.0</td>\n",
       "      <td>1</td>\n",
       "      <td>3.0</td>\n",
       "      <td>10.0</td>\n",
       "      <td>0.916291</td>\n",
       "      <td>1100.0</td>\n",
       "      <td>1693867563</td>\n",
       "      <td>2021-04-01</td>\n",
       "      <td>954.0</td>\n",
       "      <td>59</td>\n",
       "    </tr>\n",
       "    <tr>\n",
       "      <th>148872</th>\n",
       "      <td>2020-09-04</td>\n",
       "      <td>5.044335</td>\n",
       "      <td>30394585.0</td>\n",
       "      <td>26.0</td>\n",
       "      <td>1</td>\n",
       "      <td>3.0</td>\n",
       "      <td>29.0</td>\n",
       "      <td>1.740466</td>\n",
       "      <td>1110.0</td>\n",
       "      <td>640665</td>\n",
       "      <td>2020-12-01</td>\n",
       "      <td>578.0</td>\n",
       "      <td>88</td>\n",
       "    </tr>\n",
       "    <tr>\n",
       "      <th>39151</th>\n",
       "      <td>2021-02-15</td>\n",
       "      <td>3.393603</td>\n",
       "      <td>30209830.0</td>\n",
       "      <td>27.0</td>\n",
       "      <td>1</td>\n",
       "      <td>3.0</td>\n",
       "      <td>15.0</td>\n",
       "      <td>1.098612</td>\n",
       "      <td>1250.0</td>\n",
       "      <td>640665</td>\n",
       "      <td>2021-05-01</td>\n",
       "      <td>958.0</td>\n",
       "      <td>75</td>\n",
       "    </tr>\n",
       "    <tr>\n",
       "      <th>515</th>\n",
       "      <td>2021-04-01</td>\n",
       "      <td>1.486510</td>\n",
       "      <td>30330352.0</td>\n",
       "      <td>78.0</td>\n",
       "      <td>1</td>\n",
       "      <td>5.0</td>\n",
       "      <td>10.0</td>\n",
       "      <td>1.098612</td>\n",
       "      <td>1000.0</td>\n",
       "      <td>1670798778</td>\n",
       "      <td>2021-07-01</td>\n",
       "      <td>993.0</td>\n",
       "      <td>91</td>\n",
       "    </tr>\n",
       "    <tr>\n",
       "      <th>168495</th>\n",
       "      <td>2020-07-21</td>\n",
       "      <td>2.126073</td>\n",
       "      <td>30198074.0</td>\n",
       "      <td>26.0</td>\n",
       "      <td>0</td>\n",
       "      <td>3.0</td>\n",
       "      <td>15.0</td>\n",
       "      <td>2.197225</td>\n",
       "      <td>1500.0</td>\n",
       "      <td>1671863738</td>\n",
       "      <td>2020-10-01</td>\n",
       "      <td>591.0</td>\n",
       "      <td>72</td>\n",
       "    </tr>\n",
       "  </tbody>\n",
       "</table>\n",
       "</div>"
      ],
      "text/plain": [
       "        item_date  quantity_tons    customer  country  status  item_type  \\\n",
       "47290  2021-02-01       2.447923  30156496.0     28.0       1        3.0   \n",
       "148872 2020-09-04       5.044335  30394585.0     26.0       1        3.0   \n",
       "39151  2021-02-15       3.393603  30209830.0     27.0       1        3.0   \n",
       "515    2021-04-01       1.486510  30330352.0     78.0       1        5.0   \n",
       "168495 2020-07-21       2.126073  30198074.0     26.0       0        3.0   \n",
       "\n",
       "        application  thickness   width  product_ref delivery_date  \\\n",
       "47290          10.0   0.916291  1100.0   1693867563    2021-04-01   \n",
       "148872         29.0   1.740466  1110.0       640665    2020-12-01   \n",
       "39151          15.0   1.098612  1250.0       640665    2021-05-01   \n",
       "515            10.0   1.098612  1000.0   1670798778    2021-07-01   \n",
       "168495         15.0   2.197225  1500.0   1671863738    2020-10-01   \n",
       "\n",
       "        selling_price  lead_time  \n",
       "47290           954.0         59  \n",
       "148872          578.0         88  \n",
       "39151           958.0         75  \n",
       "515             993.0         91  \n",
       "168495          591.0         72  "
      ]
     },
     "execution_count": 501,
     "metadata": {},
     "output_type": "execute_result"
    }
   ],
   "source": [
    "df_1.sample(5)"
   ]
  },
  {
   "cell_type": "code",
   "execution_count": null,
   "metadata": {},
   "outputs": [],
   "source": [
    "'''status_encoded = {'lost':0, 'won':1, 'draft':2, 'to be approved':3, 'not lost for am':4,'wonderful':5, 'revised':6,\n",
    "                          'offered':7, 'offerable':8}'''"
   ]
  },
  {
   "cell_type": "code",
   "execution_count": null,
   "metadata": {},
   "outputs": [],
   "source": [
    "#item_type_encoded = {'W':5.0, 'WI':6.0, 'S':3.0, 'Others':1.0, 'PL':2.0, 'IPL':0.0, 'SLAWR':4.0}"
   ]
  }
 ],
 "metadata": {
  "kernelspec": {
   "display_name": "Python 3",
   "language": "python",
   "name": "python3"
  },
  "language_info": {
   "codemirror_mode": {
    "name": "ipython",
    "version": 3
   },
   "file_extension": ".py",
   "mimetype": "text/x-python",
   "name": "python",
   "nbconvert_exporter": "python",
   "pygments_lexer": "ipython3",
   "version": "3.12.0"
  }
 },
 "nbformat": 4,
 "nbformat_minor": 2
}
